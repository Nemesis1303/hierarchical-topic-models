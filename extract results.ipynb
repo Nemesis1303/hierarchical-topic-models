{
 "cells": [
  {
   "cell_type": "code",
   "execution_count": 1,
   "id": "116542bc",
   "metadata": {},
   "outputs": [],
   "source": [
    "import numpy as np\n",
    "import pandas as pd\n",
    "from functools import reduce\n",
    "import pathlib\n",
    "import matplotlib.pyplot as plt\n",
    "%matplotlib inline\n",
    "%config InlineBackend.figure_format = 'retina' "
   ]
  },
  {
   "cell_type": "code",
   "execution_count": 2,
   "id": "95f9cd5b",
   "metadata": {},
   "outputs": [],
   "source": [
    "path_model = pathlib.Path(\"/export/usuarios_ml4ds/lbartolome/Datasets/CORDIS/models_preproc/iter_0/TMmodel\")"
   ]
  },
  {
   "cell_type": "code",
   "execution_count": 3,
   "id": "fb0780aa",
   "metadata": {},
   "outputs": [
    {
     "data": {
      "text/plain": [
       "['market, company, product, customer, industry, commercial, business, feasibility_study, innovation, sale, business_plan, sme, manufacture, launch, patent',\n",
       " 'career, skill, fellow, network, international, university, fellowship, industry, training, expertise, collaboration, applicant, partner, interdisciplinary, esr',\n",
       " 'network, cooperation, innovation, country, international, partner, national, joint, stakeholders, initiative, support, industry, funding, sustainability, regional',\n",
       " 'computing, simulation, algorithm, theory, modeling, data, method, prediction, mathematic, statistics, optimization, uncertainty, experimental, machine_learning, learning',\n",
       " 'cell, cancer, tumor, disease, therapy, genetic, patient, mouse, molecule, vivo, metabolic, inflammation, immune, pathway, treatment',\n",
       " 'policy, stakeholders, sustainability, innovation, policy_maker, practice, governance, economy, good_practice, implementation, national, actor, public, recommendation, country',\n",
       " 'politic, policy, migration, country, legal, law, theory, international, governance, conflict, woman, practice, gender, national, transnational',\n",
       " 'molecule, surface, polymer, nanoparticle, organic, graphene, electronic, chemistry, nanoscale, solar_cell, nanostructure, nanomaterial, fabrication, thin_film, self_assembly',\n",
       " 'protein, cell, molecule, membrane, biology, peptide, enzyme, receptor, drug, structural, interaction, bind, lipid, chemistry, substrate',\n",
       " 'therapy, drug, patient, treatment, cancer, cell, disease, tissue, tumor, bone, clinical_trial, implant, vivo, cardiac, delivery',\n",
       " 'patient, healthcare, disease, care, treatment, risk, intervention, child, population, biomarker, cohort, prevention, hospital, public_health, mental_health',\n",
       " 'food, product, waste, industry, production, sustainability, bio, biomass, consumer, aquaculture, market, packaging, plant, recycling, farming',\n",
       " 'genetic, evolution, genome, specie, population, trait, animal, biology, understanding, molecule, organism, variation, diversity, adaptation, sequence',\n",
       " 'manufacture, industry, production, composite, coating, product, textile, metal, surface, printing, fibre, polymer, performance, plastic, mechanical',\n",
       " 'culture, history, music, politic, religious, heritage, practice, cultural_heritage, theory, literary, narrative, identity, literature, memory, contemporary',\n",
       " 'data, service, platform, artificial_intelligence, information, digital, web, management, software, online, big_datum, database, big_data, semantic, algorithm',\n",
       " 'genetic, cell, protein, genome, regulation, chromatin, RNA, DNA, gene_expression, epigenetic, deoxyribonucleic_acid, transcription, ribonucleic_acid, molecule, regulatory',\n",
       " 'quantum, spin, magnetic, physics, state, electron, molecule, theory, electronic, atom, photon, topological, optical, control, qubit',\n",
       " 'brain, neuron, neural, memory, circuit, synaptic, cell, neuroscience, visual, network, cognitive, cortical, image, plasticity, understanding',\n",
       " 'optical, laser, photonic, light, semiconductor, electronic, chip, power, silicon, frequency, thz, circuit, fabrication, cmos, wavelength',\n",
       " 'fuel, cell, battery, solar, hydrogen, power, heat, photovoltaic, thermal, temperature, gas, plant, industry, energy_storage, storage',\n",
       " 'cell, tissue, stem_cell, biology, molecule, differentiation, signal, regulation, vivo, genetic, understanding, image, organ, control, mechanical',\n",
       " 'safety, industry, space, service, satellite, product, consortium, test, nuclear, operational, partner, validation, earth_observation, sme, management',\n",
       " 'theory, mathematic, geometry, algebra, quantum, conjecture, graph, space, string_theory, random, symmetry, physics, dynamical, understanding, invariant',\n",
       " 'catalysis, chemistry, reaction, molecule, metal, synthesis, enzyme, synthetic, compound, bond, product, reactivity, ligand, c_h, chiral',\n",
       " 'city, urban, service, digital, innovation, ecosystem, business, information_and_communications_technology, sustainability, platform, smart, citizen, stakeholders, industry, business_model',\n",
       " 'infection, bacteria, pathogen, vaccine, disease, virus, t_cell, immune, antibiotic, immune_response, human, antigen, viral, resistance, immunity',\n",
       " 'diagnosis, image, cancer, detection, biomarker, magnetic_resonance, disease, patient, sample, molecule, screening, tissue, assay, tomography, positron_emission',\n",
       " 'fluid, flow, particle, scale, understanding, numerical, experimental, seismic, surface, simulation, dynamic, liquid, earthquake, modeling, earth',\n",
       " 'software, cloud, computing, service, platform, industry, architecture, hardware, hpc, performance, IoT, management, programmer, engineering, memory',\n",
       " 'sensor, monitoring, detection, real_time, inspection, data, smart, sense, maintenance, signal, algorithm, control, tracking, accuracy, gas',\n",
       " 'climate_change, forest, ecosystem, biodiversity, climate, marine, management, ecological, specie, conservation, land, resilience, water, change, environment',\n",
       " 'vehicle, transport, safety, road, traffic, ship, car, mobile, airport, transportation, emission, railway, rail, service, passenger',\n",
       " 'climate, ocean, atmosphere, earth, climate_change, carbon, arctic, ice, understanding, water, sea, marine, temperature, aerosol, surface',\n",
       " 'robot, human, visual, object, learning, motion, cognitive, task, virtual_reality, perception, interaction, vision, eye, control, sensor',\n",
       " 'policy, economy, market, financial, firm, country, theory, data, trade, investment, welfare, inequality, risk, pricing, consumer',\n",
       " 'aircraft, engine, flight, noise, electric, manufacture, control, wing, aerodynamic, aviation, acoustic, wind_tunnel, performance, flow, emission',\n",
       " 'education, public, school, learning, teaching, night, game, young_people, people, career, city, university, child, citizen, youth',\n",
       " 'language, learning, cognitive, linguistic, child, speech, theory, human, semantic, emotion, perception, cognition, understanding, infant, emotional',\n",
       " 'galaxy, star, universe, planet, observation, solar, evolution, black_hole, data, stellar, magnetic_field, telescope, formation, observational, physics',\n",
       " 'physics, x_ray, particle, detector, nuclear, experiment, electron, theory, large_hadron_collider, ion, beam, plasma, spectroscopy, experimental, particle_physics',\n",
       " 'network, communication, wireless, service, mobile, internet, radio, transmission, architecture, traffic, node, layer, channel, management, antenna',\n",
       " 'water, chemistry, treatment, exposure, environment, wastewater, contaminant, pollutant, industry, waste, wastewater_treatment, soil, contamination, pollution, air',\n",
       " 'plant, crop, agriculture, soil, farming, farmer, genetic, pest, seed, root, production, food, specie, fruit, stress',\n",
       " 'security, privacy, threat, secure, attack, risk, protection, trust, detection, service, emergency, resilience, blockchain, cybersecurity, disaster',\n",
       " 'archaeology, africa, culture, human, history, african, ancient, landscape, region, mediterranean, data, reconstruction, site, understanding, population',\n",
       " 'power, grid, electricity, wind, renewable_energy, wind_turbine, market, electric, turbine, storage, renewable, smart_grid, offshore_wind, management, wave',\n",
       " 'innovation, sme, service, management_capacity, management, support, sme_instrument, company, business, network, partner, growth, enterprise_europe, consortium, competitiveness',\n",
       " 'building, energy_efficiency, construction, energy_consumption, renovation, sustainability, energy_saving, emission, performance, efficient, investment, market, retrofit, mining, heating',\n",
       " 'patient, brain, muscle, pd, pain, disease, therapy, rehabilitation, stroke, treatment, neuron, amyotrophic_lateral, epilepsy, injury, parkinson_disease']"
      ]
     },
     "execution_count": 3,
     "metadata": {},
     "output_type": "execute_result"
    }
   ],
   "source": [
    "path_dec = path_model.joinpath(\"tpc_descriptions.txt\")\n",
    "with path_dec.open('r', encoding='utf8') as fin:\n",
    "    tpc_descriptions = [el.strip() for el in fin.readlines()]\n",
    "tpc_descriptions"
   ]
  }
 ],
 "metadata": {
  "kernelspec": {
   "display_name": "Python 3 (ipykernel)",
   "language": "python",
   "name": "python3"
  },
  "language_info": {
   "codemirror_mode": {
    "name": "ipython",
    "version": 3
   },
   "file_extension": ".py",
   "mimetype": "text/x-python",
   "name": "python",
   "nbconvert_exporter": "python",
   "pygments_lexer": "ipython3",
   "version": "3.8.15"
  }
 },
 "nbformat": 4,
 "nbformat_minor": 5
}
