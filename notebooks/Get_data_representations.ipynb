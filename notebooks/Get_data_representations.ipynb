{
 "cells": [
  {
   "cell_type": "code",
   "execution_count": 399,
   "id": "b530175b",
   "metadata": {},
   "outputs": [],
   "source": [
    "import numpy as np\n",
    "import pandas as pd\n",
    "from functools import reduce\n",
    "import pathlib\n",
    "import matplotlib.pyplot as plt\n",
    "import gzip\n",
    "import scipy.sparse as sparse\n",
    "%matplotlib inline\n",
    "%config InlineBackend.figure_format = 'retina'\n",
    "plt.rcParams[\"figure.figsize\"] = (7.2,4.45)\n",
    "plt.rcParams['xtick.labelsize'] = 16\n",
    "plt.rcParams['ytick.labelsize'] = 16\n",
    "plt.rcParams['font.size'] = 15\n",
    "plt.rcParams['axes.titlesize'] = 15\n",
    "plt.rcParams['axes.labelsize'] = 15\n",
    "plt.rcParams['axes.linewidth'] = 2\n",
    "plt.rcParams['legend.fontsize'] = 13\n",
    "plt.rcParams['lines.markersize'] = 13\n",
    "plt.style.use('seaborn-white')"
   ]
  },
  {
   "cell_type": "code",
   "execution_count": null,
   "id": "137aaf8b",
   "metadata": {},
   "outputs": [],
   "source": [
    "path_model = pathlib.Path(\"/export/usuarios_ml4ds/lbartolome/Datasets/CORDIS/models_preproc/iter_0\")\n",
    "topic_state_model = path_model.joinpath('modelFiles/topic-state.gz')"
   ]
  },
  {
   "cell_type": "code",
   "execution_count": null,
   "id": "9ebe95f1",
   "metadata": {},
   "outputs": [],
   "source": [
    "with gzip.open(topic_state_model) as fin:\n",
    "    topic_state_df = pd.read_csv(fin, delim_whitespace=True,\n",
    "                                 names=['docid', 'NA1', 'NA2',\n",
    "                                        'NA3', 'word', 'tpc'],\n",
    "                                 header=None, skiprows=3)\n",
    "\n",
    "topic_state_df.word.replace('nan', np.nan, inplace=True)\n",
    "topic_state_df.fillna('nan_value', inplace=True)\n",
    "\n",
    "topic_state_df_tpc = topic_state_df[topic_state_df['tpc'] == 2]\n",
    "topic_to_corpus = topic_state_df_tpc.groupby(\n",
    "    'docid')['word'].apply(list).reset_index(name='new')"
   ]
  },
  {
   "cell_type": "code",
   "execution_count": 376,
   "id": "6d471b74",
   "metadata": {},
   "outputs": [
    {
     "data": {
      "text/plain": [
       "<BarContainer object of 5 artists>"
      ]
     },
     "execution_count": 376,
     "metadata": {},
     "output_type": "execute_result"
    },
    {
     "data": {
      "image/png": "[encoded data removed]",
      "text/plain": [
       "<Figure size 518.4x320.4 with 1 Axes>"
      ]
     },
     "metadata": {
      "image/png": {
       "height": 275,
       "width": 464
      }
     },
     "output_type": "display_data"
    }
   ],
   "source": [
    "thetas = sparse.load_npz(\n",
    "                path_model.joinpath('TMmodel/thetas.npz')).todense()\n",
    "top_prop = np.sum(thetas,axis=0).tolist()[0]\n",
    "aux = [\"Topic 0\",\"Topic 1\",\"Topic 2\",\"Topic 3\",\"Topic 4\"]\n",
    "plt.bar(aux,top_prop, color = ['#79DE79', '#FCFC99', '#A8E4EF', '#FB6962','#9EA1D4'])"
   ]
  },
  {
   "cell_type": "code",
   "execution_count": 377,
   "id": "225a18f7",
   "metadata": {},
   "outputs": [
    {
     "data": {
      "text/html": [
       "<div>\n",
       "<style scoped>\n",
       "    .dataframe tbody tr th:only-of-type {\n",
       "        vertical-align: middle;\n",
       "    }\n",
       "\n",
       "    .dataframe tbody tr th {\n",
       "        vertical-align: top;\n",
       "    }\n",
       "\n",
       "    .dataframe thead th {\n",
       "        text-align: right;\n",
       "    }\n",
       "</style>\n",
       "<table border=\"1\" class=\"dataframe\">\n",
       "  <thead>\n",
       "    <tr style=\"text-align: right;\">\n",
       "      <th></th>\n",
       "      <th>docid</th>\n",
       "      <th>new</th>\n",
       "    </tr>\n",
       "  </thead>\n",
       "  <tbody>\n",
       "    <tr>\n",
       "      <th>0</th>\n",
       "      <td>0</td>\n",
       "      <td>[modern, guinea, country, december, individual...</td>\n",
       "    </tr>\n",
       "    <tr>\n",
       "      <th>1</th>\n",
       "      <td>1</td>\n",
       "      <td>[identify]</td>\n",
       "    </tr>\n",
       "    <tr>\n",
       "      <th>2</th>\n",
       "      <td>3</td>\n",
       "      <td>[evolution, unprecedented, anthropogenic_forci...</td>\n",
       "    </tr>\n",
       "    <tr>\n",
       "      <th>3</th>\n",
       "      <td>4</td>\n",
       "      <td>[mediterranean_region, strategic, improve, pro...</td>\n",
       "    </tr>\n",
       "    <tr>\n",
       "      <th>4</th>\n",
       "      <td>7</td>\n",
       "      <td>[personal, advisor, large_scale, past, informa...</td>\n",
       "    </tr>\n",
       "    <tr>\n",
       "      <th>5</th>\n",
       "      <td>8</td>\n",
       "      <td>[audio_visual, analyse, judgement, comparative...</td>\n",
       "    </tr>\n",
       "    <tr>\n",
       "      <th>6</th>\n",
       "      <td>9</td>\n",
       "      <td>[determinant, security, determinant, quantify]</td>\n",
       "    </tr>\n",
       "    <tr>\n",
       "      <th>7</th>\n",
       "      <td>11</td>\n",
       "      <td>[tangible, national, country, field, protectio...</td>\n",
       "    </tr>\n",
       "    <tr>\n",
       "      <th>8</th>\n",
       "      <td>13</td>\n",
       "      <td>[environment, rate, major, repercussion, long_...</td>\n",
       "    </tr>\n",
       "    <tr>\n",
       "      <th>9</th>\n",
       "      <td>14</td>\n",
       "      <td>[join, ecophysiological, ecosystem, land, atmo...</td>\n",
       "    </tr>\n",
       "    <tr>\n",
       "      <th>10</th>\n",
       "      <td>19</td>\n",
       "      <td>[maastricht_university, maastricht_university,...</td>\n",
       "    </tr>\n",
       "    <tr>\n",
       "      <th>11</th>\n",
       "      <td>21</td>\n",
       "      <td>[coastal, vulnerability, sea, level, rise, con...</td>\n",
       "    </tr>\n",
       "    <tr>\n",
       "      <th>12</th>\n",
       "      <td>24</td>\n",
       "      <td>[influence, effect, land, concept, improved, a...</td>\n",
       "    </tr>\n",
       "    <tr>\n",
       "      <th>13</th>\n",
       "      <td>25</td>\n",
       "      <td>[identity, transition, understanding, ethnicit...</td>\n",
       "    </tr>\n",
       "    <tr>\n",
       "      <th>14</th>\n",
       "      <td>26</td>\n",
       "      <td>[emotion_regulation, follow, observation, expe...</td>\n",
       "    </tr>\n",
       "    <tr>\n",
       "      <th>15</th>\n",
       "      <td>27</td>\n",
       "      <td>[improve, animal, phylogeny, congruence, morph...</td>\n",
       "    </tr>\n",
       "    <tr>\n",
       "      <th>16</th>\n",
       "      <td>28</td>\n",
       "      <td>[undergo, change, deregulation, entry_exit, re...</td>\n",
       "    </tr>\n",
       "    <tr>\n",
       "      <th>17</th>\n",
       "      <td>29</td>\n",
       "      <td>[individual, life_history, population, dynamic...</td>\n",
       "    </tr>\n",
       "    <tr>\n",
       "      <th>18</th>\n",
       "      <td>30</td>\n",
       "      <td>[interdisciplinary, ocean, geophysical, ocean,...</td>\n",
       "    </tr>\n",
       "    <tr>\n",
       "      <th>19</th>\n",
       "      <td>33</td>\n",
       "      <td>[child, interventions, mental_health, present,...</td>\n",
       "    </tr>\n",
       "  </tbody>\n",
       "</table>\n",
       "</div>"
      ],
      "text/plain": [
       "    docid                                                new\n",
       "0       0  [modern, guinea, country, december, individual...\n",
       "1       1                                         [identify]\n",
       "2       3  [evolution, unprecedented, anthropogenic_forci...\n",
       "3       4  [mediterranean_region, strategic, improve, pro...\n",
       "4       7  [personal, advisor, large_scale, past, informa...\n",
       "5       8  [audio_visual, analyse, judgement, comparative...\n",
       "6       9     [determinant, security, determinant, quantify]\n",
       "7      11  [tangible, national, country, field, protectio...\n",
       "8      13  [environment, rate, major, repercussion, long_...\n",
       "9      14  [join, ecophysiological, ecosystem, land, atmo...\n",
       "10     19  [maastricht_university, maastricht_university,...\n",
       "11     21  [coastal, vulnerability, sea, level, rise, con...\n",
       "12     24  [influence, effect, land, concept, improved, a...\n",
       "13     25  [identity, transition, understanding, ethnicit...\n",
       "14     26  [emotion_regulation, follow, observation, expe...\n",
       "15     27  [improve, animal, phylogeny, congruence, morph...\n",
       "16     28  [undergo, change, deregulation, entry_exit, re...\n",
       "17     29  [individual, life_history, population, dynamic...\n",
       "18     30  [interdisciplinary, ocean, geophysical, ocean,...\n",
       "19     33  [child, interventions, mental_health, present,..."
      ]
     },
     "execution_count": 377,
     "metadata": {},
     "output_type": "execute_result"
    }
   ],
   "source": [
    "topic_to_corpus.iloc[0:20]"
   ]
  },
  {
   "cell_type": "code",
   "execution_count": 397,
   "id": "b2cfce4b",
   "metadata": {},
   "outputs": [
    {
     "data": {
      "text/html": [
       "<div>\n",
       "<style scoped>\n",
       "    .dataframe tbody tr th:only-of-type {\n",
       "        vertical-align: middle;\n",
       "    }\n",
       "\n",
       "    .dataframe tbody tr th {\n",
       "        vertical-align: top;\n",
       "    }\n",
       "\n",
       "    .dataframe thead th {\n",
       "        text-align: right;\n",
       "    }\n",
       "</style>\n",
       "<table border=\"1\" class=\"dataframe\">\n",
       "  <thead>\n",
       "    <tr style=\"text-align: right;\">\n",
       "      <th></th>\n",
       "      <th>docid</th>\n",
       "      <th>NA1</th>\n",
       "      <th>NA2</th>\n",
       "      <th>NA3</th>\n",
       "      <th>word</th>\n",
       "      <th>tpc</th>\n",
       "    </tr>\n",
       "  </thead>\n",
       "  <tbody>\n",
       "    <tr>\n",
       "      <th>381</th>\n",
       "      <td>4</td>\n",
       "      <td>nan_value</td>\n",
       "      <td>0</td>\n",
       "      <td>277</td>\n",
       "      <td>sustainability</td>\n",
       "      <td>0</td>\n",
       "    </tr>\n",
       "    <tr>\n",
       "      <th>382</th>\n",
       "      <td>4</td>\n",
       "      <td>nan_value</td>\n",
       "      <td>1</td>\n",
       "      <td>278</td>\n",
       "      <td>water</td>\n",
       "      <td>0</td>\n",
       "    </tr>\n",
       "    <tr>\n",
       "      <th>383</th>\n",
       "      <td>4</td>\n",
       "      <td>nan_value</td>\n",
       "      <td>2</td>\n",
       "      <td>279</td>\n",
       "      <td>secure</td>\n",
       "      <td>0</td>\n",
       "    </tr>\n",
       "    <tr>\n",
       "      <th>384</th>\n",
       "      <td>4</td>\n",
       "      <td>nan_value</td>\n",
       "      <td>3</td>\n",
       "      <td>280</td>\n",
       "      <td>food</td>\n",
       "      <td>0</td>\n",
       "    </tr>\n",
       "    <tr>\n",
       "      <th>385</th>\n",
       "      <td>4</td>\n",
       "      <td>nan_value</td>\n",
       "      <td>4</td>\n",
       "      <td>281</td>\n",
       "      <td>production</td>\n",
       "      <td>0</td>\n",
       "    </tr>\n",
       "    <tr>\n",
       "      <th>...</th>\n",
       "      <td>...</td>\n",
       "      <td>...</td>\n",
       "      <td>...</td>\n",
       "      <td>...</td>\n",
       "      <td>...</td>\n",
       "      <td>...</td>\n",
       "    </tr>\n",
       "    <tr>\n",
       "      <th>495</th>\n",
       "      <td>4</td>\n",
       "      <td>nan_value</td>\n",
       "      <td>114</td>\n",
       "      <td>345</td>\n",
       "      <td>agriculture</td>\n",
       "      <td>0</td>\n",
       "    </tr>\n",
       "    <tr>\n",
       "      <th>496</th>\n",
       "      <td>4</td>\n",
       "      <td>nan_value</td>\n",
       "      <td>115</td>\n",
       "      <td>346</td>\n",
       "      <td>meet</td>\n",
       "      <td>0</td>\n",
       "    </tr>\n",
       "    <tr>\n",
       "      <th>497</th>\n",
       "      <td>4</td>\n",
       "      <td>nan_value</td>\n",
       "      <td>116</td>\n",
       "      <td>120</td>\n",
       "      <td>future</td>\n",
       "      <td>2</td>\n",
       "    </tr>\n",
       "    <tr>\n",
       "      <th>498</th>\n",
       "      <td>4</td>\n",
       "      <td>nan_value</td>\n",
       "      <td>117</td>\n",
       "      <td>347</td>\n",
       "      <td>constraint_impose</td>\n",
       "      <td>0</td>\n",
       "    </tr>\n",
       "    <tr>\n",
       "      <th>499</th>\n",
       "      <td>4</td>\n",
       "      <td>nan_value</td>\n",
       "      <td>118</td>\n",
       "      <td>348</td>\n",
       "      <td>climate_change</td>\n",
       "      <td>2</td>\n",
       "    </tr>\n",
       "  </tbody>\n",
       "</table>\n",
       "<p>119 rows × 6 columns</p>\n",
       "</div>"
      ],
      "text/plain": [
       "     docid        NA1  NA2  NA3               word  tpc\n",
       "381      4  nan_value    0  277     sustainability    0\n",
       "382      4  nan_value    1  278              water    0\n",
       "383      4  nan_value    2  279             secure    0\n",
       "384      4  nan_value    3  280               food    0\n",
       "385      4  nan_value    4  281         production    0\n",
       "..     ...        ...  ...  ...                ...  ...\n",
       "495      4  nan_value  114  345        agriculture    0\n",
       "496      4  nan_value  115  346               meet    0\n",
       "497      4  nan_value  116  120             future    2\n",
       "498      4  nan_value  117  347  constraint_impose    0\n",
       "499      4  nan_value  118  348     climate_change    2\n",
       "\n",
       "[119 rows x 6 columns]"
      ]
     },
     "execution_count": 397,
     "metadata": {},
     "output_type": "execute_result"
    }
   ],
   "source": [
    "topic_state_df[topic_state_df.docid==4]"
   ]
  },
  {
   "cell_type": "code",
   "execution_count": 382,
   "id": "e42d7841",
   "metadata": {},
   "outputs": [
    {
     "data": {
      "text/plain": [
       "array([[ 0,  0],\n",
       "       [ 1,  0],\n",
       "       [ 2,  0],\n",
       "       [ 3,  0],\n",
       "       [ 5,  0],\n",
       "       [ 6,  0],\n",
       "       [ 7,  0],\n",
       "       [ 8,  0],\n",
       "       [ 9,  0],\n",
       "       [11,  0],\n",
       "       [12,  0],\n",
       "       [13,  0],\n",
       "       [14,  0],\n",
       "       [15,  0],\n",
       "       [16,  0],\n",
       "       [17,  0],\n",
       "       [19,  0],\n",
       "       [20,  0],\n",
       "       [21,  0],\n",
       "       [22,  0]])"
      ]
     },
     "execution_count": 382,
     "metadata": {},
     "output_type": "execute_result"
    }
   ],
   "source": [
    "thetas_2 = thetas[:,2]\n",
    "np.argwhere(thetas_2 < 0.6)\n",
    "#np.argwhere(thetas_2 > 0.6)[0:20]"
   ]
  },
  {
   "cell_type": "code",
   "execution_count": 381,
   "id": "bb2e13f3",
   "metadata": {},
   "outputs": [
    {
     "data": {
      "text/plain": [
       "<BarContainer object of 5 artists>"
      ]
     },
     "execution_count": 381,
     "metadata": {},
     "output_type": "execute_result"
    },
    {
     "data": {
      "image/png": "[encoded data removed]",
      "text/plain": [
       "<Figure size 518.4x320.4 with 1 Axes>"
      ]
     },
     "metadata": {
      "image/png": {
       "height": 274,
       "width": 441
      }
     },
     "output_type": "display_data"
    }
   ],
   "source": [
    "doc_id_1 = 4\n",
    "\n",
    "aux = [\"Topic 0\",\"Topic 1\",\"Topic 2\",\"Topic 3\",\"Topic 4\"]\n",
    "plt.bar(aux,thetas[4].tolist()[0], color = ['#79DE79', '#FCFC99', '#A8E4EF', '#FB6962','#9EA1D4'])"
   ]
  },
  {
   "cell_type": "code",
   "execution_count": 385,
   "id": "76364d66",
   "metadata": {},
   "outputs": [
    {
     "data": {
      "text/plain": [
       "<BarContainer object of 5 artists>"
      ]
     },
     "execution_count": 385,
     "metadata": {},
     "output_type": "execute_result"
    },
    {
     "data": {
      "image/png": "[encoded data removed]",
      "text/plain": [
       "<Figure size 518.4x320.4 with 1 Axes>"
      ]
     },
     "metadata": {
      "image/png": {
       "height": 274,
       "width": 441
      }
     },
     "output_type": "display_data"
    }
   ],
   "source": [
    "doc_id_1 = 3\n",
    "\n",
    "aux = [\"Topic 0\",\"Topic 1\",\"Topic 2\",\"Topic 3\",\"Topic 4\"]\n",
    "plt.bar(aux,thetas[3].tolist()[0], color = ['#79DE79', '#FCFC99', '#A8E4EF', '#FB6962','#9EA1D4'])"
   ]
  }
 ],
 "metadata": {
  "kernelspec": {
   "display_name": "Python 3 (ipykernel)",
   "language": "python",
   "name": "python3"
  },
  "language_info": {
   "codemirror_mode": {
    "name": "ipython",
    "version": 3
   },
   "file_extension": ".py",
   "mimetype": "text/x-python",
   "name": "python",
   "nbconvert_exporter": "python",
   "pygments_lexer": "ipython3",
   "version": "3.10.6"
  }
 },
 "nbformat": 4,
 "nbformat_minor": 5
}
