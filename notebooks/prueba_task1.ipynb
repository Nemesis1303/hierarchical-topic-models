{
 "cells": [
  {
   "cell_type": "code",
   "execution_count": 37,
   "id": "2794f6e8-b471-4f3a-b59c-f4df396d67c3",
   "metadata": {
    "tags": []
   },
   "outputs": [],
   "source": [
    "import pandas as pd\n",
    "import numpy as np\n",
    "import pathlib\n",
    "from scipy.spatial.distance import jensenshannon\n",
    "import sys"
   ]
  },
  {
   "cell_type": "code",
   "execution_count": 10,
   "id": "216dcd5c-c6fb-4d28-a369-39d207b006bd",
   "metadata": {
    "tags": []
   },
   "outputs": [],
   "source": [
    "path_root_model = pathlib.Path(\n",
    "    \"/export/usuarios_ml4ds/lbartolome/Datasets/CORDIS/htm_variability_models/htm_6_tpcs_20230922\")\n",
    "path_submodel = pathlib.Path(\n",
    "    \"/export/usuarios_ml4ds/lbartolome/Datasets/CORDIS/htm_variability_models/htm_6_tpcs_20230922/submodel_htm-ws_from_topic_5_train_with_5_iter_0_20230922\")"
   ]
  },
  {
   "cell_type": "code",
   "execution_count": 61,
   "id": "031065a2-38b2-4c6f-935c-c68eccdf4fad",
   "metadata": {
    "tags": []
   },
   "outputs": [
    {
     "data": {
      "text/plain": [
       "PosixPath('/export/usuarios_ml4ds/lbartolome/Datasets/CORDIS/htm_variability_models/htm_6_tpcs_20230922')"
      ]
     },
     "execution_count": 61,
     "metadata": {},
     "output_type": "execute_result"
    }
   ],
   "source": [
    "path_submodel.parent"
   ]
  },
  {
   "cell_type": "code",
   "execution_count": 8,
   "id": "8ac5fcac-a44d-434b-8474-99d0fa7fa3c2",
   "metadata": {
    "tags": []
   },
   "outputs": [],
   "source": [
    "sys.path.append('..')\n",
    "from src.topicmodeler.src.topicmodeling.manageModels import TMmodel"
   ]
  },
  {
   "cell_type": "code",
   "execution_count": 11,
   "id": "1fbd3de0-b2dc-49b5-bc76-8f2eda5b51f0",
   "metadata": {
    "tags": []
   },
   "outputs": [
    {
     "name": "stderr",
     "output_type": "stream",
     "text": [
      "INFO:TMmodel:-- -- -- Topic model object (TMmodel) successfully created\n",
      "INFO:TMmodel:-- -- -- Topic model object (TMmodel) successfully created\n"
     ]
    }
   ],
   "source": [
    "tm_root = TMmodel(path_root_model.joinpath('TMmodel'))\n",
    "tm_sub = TMmodel(path_submodel.joinpath('TMmodel'))"
   ]
  },
  {
   "cell_type": "code",
   "execution_count": 12,
   "id": "756847eb-15c9-45a7-97c6-967c6a14baa5",
   "metadata": {
    "tags": []
   },
   "outputs": [
    {
     "data": {
      "text/plain": [
       "[(0,\n",
       "  'climate, climate_change, language, forest, biodiversity, archaeology, linguistic, ocean, ecological, heritage'),\n",
       " (1,\n",
       "  'energy, robotic, aircraft, wireless, sensor, vehicle, energy_efficiency, hardware, automatic, engine'),\n",
       " (2,\n",
       "  'quantum, molecule, photonic, energy, particle, optic, electron, laser, atom, galaxy'),\n",
       " (3,\n",
       "  'cellular, genetic, protein, neuronal, molecule, genomic, brain, ribonucleic_acid, deoxyribonucleic_acid, vivo'),\n",
       " (4,\n",
       "  'energy, water, carbon_dioxide, food, plant, chemical, waste, carbon, soil, metal'),\n",
       " (5,\n",
       "  'patient, therapeutic, clinical, cancer, disease, tumor, drug, tissue, healthcare, biomarker')]"
      ]
     },
     "execution_count": 12,
     "metadata": {},
     "output_type": "execute_result"
    }
   ],
   "source": [
    "tm_root.get_tpc_word_descriptions(10)"
   ]
  },
  {
   "cell_type": "code",
   "execution_count": 24,
   "id": "8981d641-c846-46ce-a70f-b2088dfaae50",
   "metadata": {
    "tags": []
   },
   "outputs": [
    {
     "data": {
      "text/plain": [
       "(6, 20254)"
      ]
     },
     "execution_count": 24,
     "metadata": {},
     "output_type": "execute_result"
    }
   ],
   "source": [
    "df,_ = tm_root.to_dataframe()\n",
    "df.betas[0].shape"
   ]
  },
  {
   "cell_type": "code",
   "execution_count": 28,
   "id": "39d3189a-4c67-416c-bf29-fb5648f82fbf",
   "metadata": {
    "tags": []
   },
   "outputs": [
    {
     "data": {
      "text/plain": [
       "'control'"
      ]
     },
     "execution_count": 28,
     "metadata": {},
     "output_type": "execute_result"
    }
   ],
   "source": [
    "tm_root.get_tpc_word_descriptions(20254)[5][1].split(\", \")[-1]"
   ]
  },
  {
   "cell_type": "code",
   "execution_count": 29,
   "id": "c1d86b10-809f-4623-8a88-e1e938e7f157",
   "metadata": {
    "tags": []
   },
   "outputs": [
    {
     "data": {
      "text/plain": [
       "[(0,\n",
       "  'health, healthcare, brain, pain, rehabilitation, alzheimer, patient, stroke, depression, parkinson'),\n",
       " (1,\n",
       "  'tumor, cancer, cellular, drug, immunotherapy, therapeutic, metastasis, drug_delivery, chemotherapy, breast_cancer'),\n",
       " (2,\n",
       "  'cardiac, cardiovascular, health, obesity, diabetes, cvd, heart, atrial_fibrillation, exposure, cardiovascular_disease'),\n",
       " (3,\n",
       "  'image, imaging, nuclear_magnetic_resonance, diagnosis, biomarker, positron_emission, computed_tomography, cancer, point_care, detection'),\n",
       " (4,\n",
       "  'vaccine, antibiotic, bone, infection, tuberculosis, biomaterial, cellular, pathogen, tissue, infectious_disease')]"
      ]
     },
     "execution_count": 29,
     "metadata": {},
     "output_type": "execute_result"
    }
   ],
   "source": [
    "tm_sub.get_tpc_word_descriptions(10)"
   ]
  },
  {
   "cell_type": "code",
   "execution_count": 32,
   "id": "445eb97f-18a8-417b-ad1a-e8cb0d0f28f7",
   "metadata": {
    "tags": []
   },
   "outputs": [],
   "source": [
    "def sim_word_comp(betas1: np.array,\n",
    "                  betas2: np.array,\n",
    "                  npairs: int,\n",
    "                  thr: float = 1e-3):  # -> list(tuple(int, int, float)):\n",
    "    \"\"\"Calculates similarities between word distributions of two topic models based on their word composition using Jensen-Shannon distance.\n",
    "\n",
    "    Parameters\n",
    "    ----------\n",
    "    betas1 : np.array\n",
    "        Topic-word distribution of topic model 1, of dimensions (n_topics, n_words)\n",
    "    betas2 : np.array\n",
    "        Topic-word distribution of topic model 2, of dimensions (n_topics, n_words)\n",
    "    npairs : int\n",
    "        Number of pairs of words to be returned\n",
    "    thr : float\n",
    "        Threshold for removing words with low probability\n",
    "\n",
    "    Returns\n",
    "    -------\n",
    "    selected_worddesc : list(tuple(int, int, float))\n",
    "        List of tuples with the indices of the topics with the highest similarity and their similarity score\n",
    "    \"\"\"\n",
    "\n",
    "    ntopics = betas1.shape[0]\n",
    "    ntopics2 = betas2.shape[0]\n",
    "\n",
    "    js_mat = np.zeros((ntopics, ntopics2))\n",
    "    for k in range(ntopics):\n",
    "        for kk in range(ntopics2):\n",
    "            js_mat[k, kk] = jensenshannon(\n",
    "                betas1[k, :], betas2[kk, :])\n",
    "    JSsim = 1 - js_mat\n",
    "\n",
    "    return JSsim"
   ]
  },
  {
   "cell_type": "code",
   "execution_count": 58,
   "id": "52dc3a93-8a2f-4d7f-a970-43b352268f6a",
   "metadata": {
    "tags": []
   },
   "outputs": [
    {
     "data": {
      "text/plain": [
       "'quantum'"
      ]
     },
     "execution_count": 58,
     "metadata": {},
     "output_type": "execute_result"
    }
   ],
   "source": [
    "betas = tm_root.to_dataframe()[0].betas[0]\n",
    "betas_sim = sim_word_comp(betas,betas, 2)\n",
    "tpc_sim_from = 5\n",
    "least_sim_tpc = np.argmin(betas_sim[tpc_sim_from,:])\n",
    "# Most probable word of least similar topic\n",
    "least_sim_word = tm_root.get_tpc_word_descriptions(betas.shape[1])[least_sim_tpc][1].split(\", \")[0]\n",
    "least_sim_word"
   ]
  },
  {
   "cell_type": "code",
   "execution_count": 128,
   "id": "806ecf4b-6e03-4c8d-a1c7-3bee1035411d",
   "metadata": {
    "tags": []
   },
   "outputs": [
    {
     "data": {
      "text/plain": [
       "0"
      ]
     },
     "execution_count": 128,
     "metadata": {},
     "output_type": "execute_result"
    }
   ],
   "source": [
    "n, p = 1, .5  # number of trials, probability of each trial\n",
    "s = np.random.binomial(n, p, 1)[0]\n",
    "s"
   ]
  },
  {
   "cell_type": "markdown",
   "id": "e9d195c5-f0e9-4852-9e36-75a402b0cc45",
   "metadata": {},
   "source": [
    "For each submodel in root model;\n",
    "    For each topic in submodel:\n",
    "        Sample y from a Bernoulli to determine whether to introduce intruder or not.\n",
    "        If y == 1:\n",
    "            Sample z from a Categorical(1/3,1/3,1/3) to determine whether the intruder is going to be introduce in HTM-WS , HTM-DS or HLDA model\n",
    "            Get most probable word of least similar topic as the intruder according to JS similarity on the betas\n",
    "            If z == 0: \n",
    "                Insert the intruder in HTM-WS model\n",
    "            If z == 1:\n",
    "                Insert the intruder in HTM-DS model\n",
    "            If z == 2:\n",
    "                Get most similar topic in hlda model according to WMD\n",
    "                Insert the intruder in hlda model's most similar topic\n",
    "        If y == 0:\n",
    "            Leave the topisc as they are\n",
    "        "
   ]
  },
  {
   "cell_type": "code",
   "execution_count": 129,
   "id": "22a6ba01-28e8-4206-84ee-65a9b16018ba",
   "metadata": {
    "tags": []
   },
   "outputs": [],
   "source": [
    "p_intruder_location = [1/3, 1/3, 1/3]  # Probability distribution for intruder location"
   ]
  },
  {
   "cell_type": "code",
   "execution_count": 195,
   "id": "62049734-6ff0-4001-b04f-832106b53861",
   "metadata": {
    "tags": []
   },
   "outputs": [
    {
     "data": {
      "text/plain": [
       "1"
      ]
     },
     "execution_count": 195,
     "metadata": {},
     "output_type": "execute_result"
    }
   ],
   "source": [
    "np.random.choice(len(p_intruder_location), p=p_intruder_location)"
   ]
  },
  {
   "cell_type": "code",
   "execution_count": 198,
   "id": "c4e8079a-6ecd-40b1-b1cd-7d581eff3997",
   "metadata": {
    "tags": []
   },
   "outputs": [
    {
     "data": {
      "text/plain": [
       "'climate, climate_change, language, forest, biodiversity, archaeology, linguistic, ocean, ecological, heritage, child, land, cognitive, sea, marine'"
      ]
     },
     "execution_count": 198,
     "metadata": {},
     "output_type": "execute_result"
    }
   ],
   "source": [
    " tm_root.get_tpc_word_descriptions()[0][1]"
   ]
  },
  {
   "cell_type": "code",
   "execution_count": 201,
   "id": "ff291b9f-33fc-47b5-a73d-f657220e0a12",
   "metadata": {
    "tags": []
   },
   "outputs": [],
   "source": [
    "path_submodels = (\n",
    "    pathlib.Path(\"/export/usuarios_ml4ds/lbartolome/Datasets/CORDIS/htm_variability_models/htm_6_tpcs_20230922/submodel_htm-ws_from_topic_2_train_with_10_iter_1_20230922\"),\n",
    "    pathlib.Path(\"/export/usuarios_ml4ds/lbartolome/Datasets/CORDIS/htm_variability_models/htm_6_tpcs_20230922/submodel_htm-ds_thr_0.6_from_topic_2_train_with_10_iter_1_20230930\")\n",
    ")"
   ]
  },
  {
   "cell_type": "code",
   "execution_count": 202,
   "id": "f8e77857-9ff2-49dc-8023-05d3291eadeb",
   "metadata": {
    "tags": []
   },
   "outputs": [
    {
     "name": "stderr",
     "output_type": "stream",
     "text": [
      "INFO:TMmodel:-- -- -- Topic model object (TMmodel) successfully created\n",
      "INFO:TMmodel:-- -- -- Topic model object (TMmodel) successfully created\n",
      "INFO:TMmodel:-- -- -- Topic model object (TMmodel) successfully created\n"
     ]
    }
   ],
   "source": [
    "tms = {'parent': TMmodel(path_submodels[0].parent.joinpath('TMmodel')),\n",
    "       'ws': TMmodel(path_submodels[0].joinpath('TMmodel')),\n",
    "       'ds': TMmodel(path_submodels[1].joinpath('TMmodel'))\n",
    "}"
   ]
  },
  {
   "cell_type": "code",
   "execution_count": 223,
   "id": "4c75fd37-beb3-4dbd-a0f1-513ba90bd84a",
   "metadata": {
    "tags": []
   },
   "outputs": [],
   "source": [
    "topics1 = [el[1].split(', ') for el in tms['ws'].get_tpc_word_descriptions()]\n",
    "topics2 = [el[1].split(', ') for el in tms['ds'].get_tpc_word_descriptions()]\n",
    "topics0 = [el[1].split(', ') for el in tms['parent'].get_tpc_word_descriptions()]"
   ]
  },
  {
   "cell_type": "code",
   "execution_count": 200,
   "id": "4c1f5dc2-2e03-4346-9476-64249593e33d",
   "metadata": {
    "tags": []
   },
   "outputs": [
    {
     "name": "stderr",
     "output_type": "stream",
     "text": [
      "INFO:gensim.models.keyedvectors:loading projection weights from /home/lbartolome/gensim-data/word2vec-google-news-300/word2vec-google-news-300.gz\n",
      "INFO:gensim.utils:KeyedVectors lifecycle event {'msg': 'loaded (3000000, 300) matrix of type float32 from /home/lbartolome/gensim-data/word2vec-google-news-300/word2vec-google-news-300.gz', 'binary': True, 'encoding': 'utf8', 'datetime': '2023-10-16T14:59:16.723437', 'gensim': '4.3.2', 'python': '3.10.9 (main, Jan 11 2023, 15:21:40) [GCC 11.2.0]', 'platform': 'Linux-5.15.0-78-generic-x86_64-with-glibc2.35', 'event': 'load_word2vec_format'}\n"
     ]
    }
   ],
   "source": [
    "import gensim.downloader as api\n",
    "model = api.load('word2vec-google-news-300')"
   ]
  },
  {
   "cell_type": "code",
   "execution_count": 212,
   "id": "63d518b3-972b-4238-85c1-b7ae190db194",
   "metadata": {
    "tags": []
   },
   "outputs": [],
   "source": [
    "def wmd(topics1, topics2, n_words=10):\n",
    "    all_dist = np.zeros((len(topics1), len(topics2)))\n",
    "    for idx1, tpc1 in enumerate(topics1):\n",
    "        for idx2, tpc2 in enumerate(topics2):\n",
    "            all_dist[idx1, idx2] = model.wmdistance(\n",
    "                tpc1[:n_words], tpc2[:n_words])\n",
    "    return all_dist"
   ]
  },
  {
   "cell_type": "code",
   "execution_count": 222,
   "id": "508f825b-ca92-4f5a-888a-89781dd534e7",
   "metadata": {
    "tags": []
   },
   "outputs": [
    {
     "data": {
      "text/plain": [
       "[['molecule',\n",
       "  'nanoparticle',\n",
       "  'self_assembly',\n",
       "  'nanostructure',\n",
       "  'polymer',\n",
       "  'supramolecular',\n",
       "  'chemical',\n",
       "  'nanomaterial',\n",
       "  'surface',\n",
       "  'nanoscale',\n",
       "  'single_molecule',\n",
       "  'electric',\n",
       "  'self_assemble',\n",
       "  'biological',\n",
       "  'structure'],\n",
       " ['imaging',\n",
       "  'x_ray',\n",
       "  'image',\n",
       "  'microscopy',\n",
       "  'sensor',\n",
       "  'nuclear_magnetic_resonance',\n",
       "  'optic',\n",
       "  'resolution',\n",
       "  'measurement',\n",
       "  'detection',\n",
       "  'probe',\n",
       "  'sensitivity',\n",
       "  'detector',\n",
       "  'spectroscopy',\n",
       "  'molecule'],\n",
       " ['fluid',\n",
       "  'earth',\n",
       "  'flow',\n",
       "  'earthquake',\n",
       "  'seismic',\n",
       "  'deformation',\n",
       "  'turbulence',\n",
       "  'multiscale',\n",
       "  'mantle',\n",
       "  'mechanical',\n",
       "  'microstructure',\n",
       "  'wave',\n",
       "  'rock',\n",
       "  'fracture',\n",
       "  'mechanic'],\n",
       " ['conjecture',\n",
       "  'geometric',\n",
       "  'equation',\n",
       "  'graph',\n",
       "  'algebraic',\n",
       "  'string_theory',\n",
       "  'algebra',\n",
       "  'random',\n",
       "  'mathematic',\n",
       "  'topology',\n",
       "  'invariant',\n",
       "  'theorem',\n",
       "  'computer_science',\n",
       "  'symmetry',\n",
       "  'nonlinear'],\n",
       " ['solar_cell',\n",
       "  'electric',\n",
       "  'semiconductor',\n",
       "  'silicon',\n",
       "  'graphene',\n",
       "  'fabrication',\n",
       "  'thin_film',\n",
       "  'organic',\n",
       "  'circuit',\n",
       "  'si',\n",
       "  'fabricate',\n",
       "  'cmos',\n",
       "  'nanowire',\n",
       "  'transistor',\n",
       "  'perovskite'],\n",
       " ['photonic',\n",
       "  'optic',\n",
       "  'laser',\n",
       "  'nonlinear',\n",
       "  'chip',\n",
       "  'pulse',\n",
       "  'metamaterial',\n",
       "  'plasmonic',\n",
       "  'wavelength',\n",
       "  'waveguide',\n",
       "  'frequency',\n",
       "  'sensing',\n",
       "  'source',\n",
       "  'fiber',\n",
       "  'frequency_comb'],\n",
       " ['galaxy',\n",
       "  'star',\n",
       "  'universe',\n",
       "  'solar',\n",
       "  'dust',\n",
       "  'planet',\n",
       "  'planetary',\n",
       "  'telescope',\n",
       "  'stellar',\n",
       "  'observational',\n",
       "  'black_hole',\n",
       "  'observation',\n",
       "  'star_formation',\n",
       "  'cosmic',\n",
       "  'gravitational_wave'],\n",
       " ['quantum',\n",
       "  'qubit',\n",
       "  'entanglement',\n",
       "  'single_photon',\n",
       "  'atom',\n",
       "  'photon',\n",
       "  'quantum_optic',\n",
       "  'quantum_computing',\n",
       "  'quantum_computer',\n",
       "  'quantum_dot',\n",
       "  'light_matter',\n",
       "  'body',\n",
       "  'classical',\n",
       "  'decoherence',\n",
       "  'polariton'],\n",
       " ['magnetic',\n",
       "  'electric',\n",
       "  'spin',\n",
       "  'topology',\n",
       "  'electron',\n",
       "  'spintronic',\n",
       "  'magnetic_field',\n",
       "  'magnetism',\n",
       "  'superconductor',\n",
       "  'superconducte',\n",
       "  'spin_orbit',\n",
       "  'graphene',\n",
       "  'magnet',\n",
       "  'superconductivity',\n",
       "  'transition_metal'],\n",
       " ['large_hadron_collider',\n",
       "  'particle',\n",
       "  'nuclear',\n",
       "  'dark_matter',\n",
       "  'plasma',\n",
       "  'detector',\n",
       "  'standard_model',\n",
       "  'large_hadron',\n",
       "  'cern',\n",
       "  'neutrino',\n",
       "  'accelerator',\n",
       "  'neutron',\n",
       "  'collider',\n",
       "  'collision',\n",
       "  'decay']]"
      ]
     },
     "execution_count": 222,
     "metadata": {},
     "output_type": "execute_result"
    }
   ],
   "source": [
    "topics1"
   ]
  },
  {
   "cell_type": "code",
   "execution_count": 225,
   "id": "a75f8029-8368-4f97-acf8-bdd28c190360",
   "metadata": {
    "tags": []
   },
   "outputs": [
    {
     "data": {
      "text/plain": [
       "array([[1.26792323, 1.3031166 , 1.29967466, 1.32751347, 1.28047634,\n",
       "        1.26406407, 1.25874425, 1.26126149, 1.29059986, 1.32558986],\n",
       "       [1.27816297, 1.25233829, 1.22255968, 1.19077231, 1.22659481,\n",
       "        1.26878842, 1.27047777, 1.26251871, 1.25194262, 1.08526937],\n",
       "       [1.21253175, 0.90461443, 1.0827793 , 0.80430819, 0.96297898,\n",
       "        1.08240279, 1.02121359, 1.23927682, 0.81299152, 0.9480273 ],\n",
       "       [1.22155389, 1.19096912, 1.18886857, 1.17729338, 1.1862696 ,\n",
       "        1.2782168 , 0.893347  , 1.2699434 , 0.96002708, 1.20346746],\n",
       "       [1.31003956, 1.27890417, 1.20825464, 1.27697927, 1.23832159,\n",
       "        1.27000387, 1.19806708, 1.23075505, 1.10686862, 1.2406454 ],\n",
       "       [1.29431382, 1.29146147, 1.27081266, 1.26978005, 1.27330971,\n",
       "        1.29759188, 1.21025875, 1.29387019, 1.2349819 , 1.28183319]])"
      ]
     },
     "execution_count": 225,
     "metadata": {},
     "output_type": "execute_result"
    }
   ],
   "source": [
    "all_dist"
   ]
  },
  {
   "cell_type": "code",
   "execution_count": 224,
   "id": "a9db2445-5c63-4f6c-a955-4a4199f082e3",
   "metadata": {
    "tags": []
   },
   "outputs": [
    {
     "name": "stderr",
     "output_type": "stream",
     "text": [
      "INFO:gensim.models.keyedvectors:Removed 1 and 0 OOV words from document 1 and 2 (respectively).\n",
      "INFO:gensim.corpora.dictionary:adding document #0 to Dictionary<0 unique tokens: []>\n",
      "INFO:gensim.corpora.dictionary:built Dictionary<19 unique tokens: ['biodiversity', 'climate', 'climate_change', 'ecological', 'forest']...> from 2 documents (total 19 corpus positions)\n",
      "INFO:gensim.utils:Dictionary lifecycle event {'msg': \"built Dictionary<19 unique tokens: ['biodiversity', 'climate', 'climate_change', 'ecological', 'forest']...> from 2 documents (total 19 corpus positions)\", 'datetime': '2023-10-16T16:48:35.369320', 'gensim': '4.3.2', 'python': '3.10.9 (main, Jan 11 2023, 15:21:40) [GCC 11.2.0]', 'platform': 'Linux-5.15.0-78-generic-x86_64-with-glibc2.35', 'event': 'created'}\n",
      "INFO:gensim.models.keyedvectors:Removed 1 and 1 OOV words from document 1 and 2 (respectively).\n",
      "INFO:gensim.corpora.dictionary:adding document #0 to Dictionary<0 unique tokens: []>\n",
      "INFO:gensim.corpora.dictionary:built Dictionary<18 unique tokens: ['biodiversity', 'climate', 'climate_change', 'ecological', 'forest']...> from 2 documents (total 18 corpus positions)\n",
      "INFO:gensim.utils:Dictionary lifecycle event {'msg': \"built Dictionary<18 unique tokens: ['biodiversity', 'climate', 'climate_change', 'ecological', 'forest']...> from 2 documents (total 18 corpus positions)\", 'datetime': '2023-10-16T16:48:35.375263', 'gensim': '4.3.2', 'python': '3.10.9 (main, Jan 11 2023, 15:21:40) [GCC 11.2.0]', 'platform': 'Linux-5.15.0-78-generic-x86_64-with-glibc2.35', 'event': 'created'}\n",
      "INFO:gensim.models.keyedvectors:Removed 1 and 2 OOV words from document 1 and 2 (respectively).\n",
      "INFO:gensim.corpora.dictionary:adding document #0 to Dictionary<0 unique tokens: []>\n",
      "INFO:gensim.corpora.dictionary:built Dictionary<17 unique tokens: ['biodiversity', 'climate', 'climate_change', 'ecological', 'forest']...> from 2 documents (total 17 corpus positions)\n",
      "INFO:gensim.utils:Dictionary lifecycle event {'msg': \"built Dictionary<17 unique tokens: ['biodiversity', 'climate', 'climate_change', 'ecological', 'forest']...> from 2 documents (total 17 corpus positions)\", 'datetime': '2023-10-16T16:48:35.380175', 'gensim': '4.3.2', 'python': '3.10.9 (main, Jan 11 2023, 15:21:40) [GCC 11.2.0]', 'platform': 'Linux-5.15.0-78-generic-x86_64-with-glibc2.35', 'event': 'created'}\n",
      "INFO:gensim.models.keyedvectors:Removed 1 and 0 OOV words from document 1 and 2 (respectively).\n",
      "INFO:gensim.corpora.dictionary:adding document #0 to Dictionary<0 unique tokens: []>\n",
      "INFO:gensim.corpora.dictionary:built Dictionary<19 unique tokens: ['biodiversity', 'climate', 'climate_change', 'ecological', 'forest']...> from 2 documents (total 19 corpus positions)\n",
      "INFO:gensim.utils:Dictionary lifecycle event {'msg': \"built Dictionary<19 unique tokens: ['biodiversity', 'climate', 'climate_change', 'ecological', 'forest']...> from 2 documents (total 19 corpus positions)\", 'datetime': '2023-10-16T16:48:35.384434', 'gensim': '4.3.2', 'python': '3.10.9 (main, Jan 11 2023, 15:21:40) [GCC 11.2.0]', 'platform': 'Linux-5.15.0-78-generic-x86_64-with-glibc2.35', 'event': 'created'}\n",
      "INFO:gensim.models.keyedvectors:Removed 1 and 2 OOV words from document 1 and 2 (respectively).\n",
      "INFO:gensim.corpora.dictionary:adding document #0 to Dictionary<0 unique tokens: []>\n",
      "INFO:gensim.corpora.dictionary:built Dictionary<17 unique tokens: ['biodiversity', 'climate', 'climate_change', 'ecological', 'forest']...> from 2 documents (total 17 corpus positions)\n",
      "INFO:gensim.utils:Dictionary lifecycle event {'msg': \"built Dictionary<17 unique tokens: ['biodiversity', 'climate', 'climate_change', 'ecological', 'forest']...> from 2 documents (total 17 corpus positions)\", 'datetime': '2023-10-16T16:48:35.388793', 'gensim': '4.3.2', 'python': '3.10.9 (main, Jan 11 2023, 15:21:40) [GCC 11.2.0]', 'platform': 'Linux-5.15.0-78-generic-x86_64-with-glibc2.35', 'event': 'created'}\n",
      "INFO:gensim.models.keyedvectors:Removed 1 and 1 OOV words from document 1 and 2 (respectively).\n",
      "INFO:gensim.corpora.dictionary:adding document #0 to Dictionary<0 unique tokens: []>\n",
      "INFO:gensim.corpora.dictionary:built Dictionary<18 unique tokens: ['biodiversity', 'climate', 'climate_change', 'ecological', 'forest']...> from 2 documents (total 18 corpus positions)\n",
      "INFO:gensim.utils:Dictionary lifecycle event {'msg': \"built Dictionary<18 unique tokens: ['biodiversity', 'climate', 'climate_change', 'ecological', 'forest']...> from 2 documents (total 18 corpus positions)\", 'datetime': '2023-10-16T16:48:35.392254', 'gensim': '4.3.2', 'python': '3.10.9 (main, Jan 11 2023, 15:21:40) [GCC 11.2.0]', 'platform': 'Linux-5.15.0-78-generic-x86_64-with-glibc2.35', 'event': 'created'}\n",
      "INFO:gensim.models.keyedvectors:Removed 1 and 1 OOV words from document 1 and 2 (respectively).\n",
      "INFO:gensim.corpora.dictionary:adding document #0 to Dictionary<0 unique tokens: []>\n",
      "INFO:gensim.corpora.dictionary:built Dictionary<18 unique tokens: ['biodiversity', 'climate', 'climate_change', 'ecological', 'forest']...> from 2 documents (total 18 corpus positions)\n",
      "INFO:gensim.utils:Dictionary lifecycle event {'msg': \"built Dictionary<18 unique tokens: ['biodiversity', 'climate', 'climate_change', 'ecological', 'forest']...> from 2 documents (total 18 corpus positions)\", 'datetime': '2023-10-16T16:48:35.395803', 'gensim': '4.3.2', 'python': '3.10.9 (main, Jan 11 2023, 15:21:40) [GCC 11.2.0]', 'platform': 'Linux-5.15.0-78-generic-x86_64-with-glibc2.35', 'event': 'created'}\n",
      "INFO:gensim.models.keyedvectors:Removed 1 and 0 OOV words from document 1 and 2 (respectively).\n",
      "INFO:gensim.corpora.dictionary:adding document #0 to Dictionary<0 unique tokens: []>\n",
      "INFO:gensim.corpora.dictionary:built Dictionary<19 unique tokens: ['biodiversity', 'climate', 'climate_change', 'ecological', 'forest']...> from 2 documents (total 19 corpus positions)\n",
      "INFO:gensim.utils:Dictionary lifecycle event {'msg': \"built Dictionary<19 unique tokens: ['biodiversity', 'climate', 'climate_change', 'ecological', 'forest']...> from 2 documents (total 19 corpus positions)\", 'datetime': '2023-10-16T16:48:35.401322', 'gensim': '4.3.2', 'python': '3.10.9 (main, Jan 11 2023, 15:21:40) [GCC 11.2.0]', 'platform': 'Linux-5.15.0-78-generic-x86_64-with-glibc2.35', 'event': 'created'}\n",
      "INFO:gensim.models.keyedvectors:Removed 1 and 2 OOV words from document 1 and 2 (respectively).\n",
      "INFO:gensim.corpora.dictionary:adding document #0 to Dictionary<0 unique tokens: []>\n",
      "INFO:gensim.corpora.dictionary:built Dictionary<17 unique tokens: ['biodiversity', 'climate', 'climate_change', 'ecological', 'forest']...> from 2 documents (total 17 corpus positions)\n",
      "INFO:gensim.utils:Dictionary lifecycle event {'msg': \"built Dictionary<17 unique tokens: ['biodiversity', 'climate', 'climate_change', 'ecological', 'forest']...> from 2 documents (total 17 corpus positions)\", 'datetime': '2023-10-16T16:48:35.405980', 'gensim': '4.3.2', 'python': '3.10.9 (main, Jan 11 2023, 15:21:40) [GCC 11.2.0]', 'platform': 'Linux-5.15.0-78-generic-x86_64-with-glibc2.35', 'event': 'created'}\n",
      "INFO:gensim.models.keyedvectors:Removed 1 and 0 OOV words from document 1 and 2 (respectively).\n",
      "INFO:gensim.corpora.dictionary:adding document #0 to Dictionary<0 unique tokens: []>\n",
      "INFO:gensim.corpora.dictionary:built Dictionary<19 unique tokens: ['biodiversity', 'climate', 'climate_change', 'ecological', 'forest']...> from 2 documents (total 19 corpus positions)\n",
      "INFO:gensim.utils:Dictionary lifecycle event {'msg': \"built Dictionary<19 unique tokens: ['biodiversity', 'climate', 'climate_change', 'ecological', 'forest']...> from 2 documents (total 19 corpus positions)\", 'datetime': '2023-10-16T16:48:35.410804', 'gensim': '4.3.2', 'python': '3.10.9 (main, Jan 11 2023, 15:21:40) [GCC 11.2.0]', 'platform': 'Linux-5.15.0-78-generic-x86_64-with-glibc2.35', 'event': 'created'}\n",
      "INFO:gensim.models.keyedvectors:Removed 1 and 0 OOV words from document 1 and 2 (respectively).\n",
      "INFO:gensim.corpora.dictionary:adding document #0 to Dictionary<0 unique tokens: []>\n",
      "INFO:gensim.corpora.dictionary:built Dictionary<19 unique tokens: ['aircraft', 'automatic', 'energy', 'engine', 'hardware']...> from 2 documents (total 19 corpus positions)\n",
      "INFO:gensim.utils:Dictionary lifecycle event {'msg': \"built Dictionary<19 unique tokens: ['aircraft', 'automatic', 'energy', 'engine', 'hardware']...> from 2 documents (total 19 corpus positions)\", 'datetime': '2023-10-16T16:48:35.415139', 'gensim': '4.3.2', 'python': '3.10.9 (main, Jan 11 2023, 15:21:40) [GCC 11.2.0]', 'platform': 'Linux-5.15.0-78-generic-x86_64-with-glibc2.35', 'event': 'created'}\n",
      "INFO:gensim.models.keyedvectors:Removed 1 and 1 OOV words from document 1 and 2 (respectively).\n",
      "INFO:gensim.corpora.dictionary:adding document #0 to Dictionary<0 unique tokens: []>\n",
      "INFO:gensim.corpora.dictionary:built Dictionary<18 unique tokens: ['aircraft', 'automatic', 'energy', 'engine', 'hardware']...> from 2 documents (total 18 corpus positions)\n",
      "INFO:gensim.utils:Dictionary lifecycle event {'msg': \"built Dictionary<18 unique tokens: ['aircraft', 'automatic', 'energy', 'engine', 'hardware']...> from 2 documents (total 18 corpus positions)\", 'datetime': '2023-10-16T16:48:35.419710', 'gensim': '4.3.2', 'python': '3.10.9 (main, Jan 11 2023, 15:21:40) [GCC 11.2.0]', 'platform': 'Linux-5.15.0-78-generic-x86_64-with-glibc2.35', 'event': 'created'}\n",
      "INFO:gensim.models.keyedvectors:Removed 1 and 2 OOV words from document 1 and 2 (respectively).\n",
      "INFO:gensim.corpora.dictionary:adding document #0 to Dictionary<0 unique tokens: []>\n",
      "INFO:gensim.corpora.dictionary:built Dictionary<17 unique tokens: ['aircraft', 'automatic', 'energy', 'engine', 'hardware']...> from 2 documents (total 17 corpus positions)\n",
      "INFO:gensim.utils:Dictionary lifecycle event {'msg': \"built Dictionary<17 unique tokens: ['aircraft', 'automatic', 'energy', 'engine', 'hardware']...> from 2 documents (total 17 corpus positions)\", 'datetime': '2023-10-16T16:48:35.424335', 'gensim': '4.3.2', 'python': '3.10.9 (main, Jan 11 2023, 15:21:40) [GCC 11.2.0]', 'platform': 'Linux-5.15.0-78-generic-x86_64-with-glibc2.35', 'event': 'created'}\n",
      "INFO:gensim.models.keyedvectors:Removed 1 and 0 OOV words from document 1 and 2 (respectively).\n",
      "INFO:gensim.corpora.dictionary:adding document #0 to Dictionary<0 unique tokens: []>\n",
      "INFO:gensim.corpora.dictionary:built Dictionary<19 unique tokens: ['aircraft', 'automatic', 'energy', 'engine', 'hardware']...> from 2 documents (total 19 corpus positions)\n",
      "INFO:gensim.utils:Dictionary lifecycle event {'msg': \"built Dictionary<19 unique tokens: ['aircraft', 'automatic', 'energy', 'engine', 'hardware']...> from 2 documents (total 19 corpus positions)\", 'datetime': '2023-10-16T16:48:35.428869', 'gensim': '4.3.2', 'python': '3.10.9 (main, Jan 11 2023, 15:21:40) [GCC 11.2.0]', 'platform': 'Linux-5.15.0-78-generic-x86_64-with-glibc2.35', 'event': 'created'}\n",
      "INFO:gensim.models.keyedvectors:Removed 1 and 2 OOV words from document 1 and 2 (respectively).\n",
      "INFO:gensim.corpora.dictionary:adding document #0 to Dictionary<0 unique tokens: []>\n",
      "INFO:gensim.corpora.dictionary:built Dictionary<17 unique tokens: ['aircraft', 'automatic', 'energy', 'engine', 'hardware']...> from 2 documents (total 17 corpus positions)\n",
      "INFO:gensim.utils:Dictionary lifecycle event {'msg': \"built Dictionary<17 unique tokens: ['aircraft', 'automatic', 'energy', 'engine', 'hardware']...> from 2 documents (total 17 corpus positions)\", 'datetime': '2023-10-16T16:48:35.433411', 'gensim': '4.3.2', 'python': '3.10.9 (main, Jan 11 2023, 15:21:40) [GCC 11.2.0]', 'platform': 'Linux-5.15.0-78-generic-x86_64-with-glibc2.35', 'event': 'created'}\n",
      "INFO:gensim.models.keyedvectors:Removed 1 and 1 OOV words from document 1 and 2 (respectively).\n",
      "INFO:gensim.corpora.dictionary:adding document #0 to Dictionary<0 unique tokens: []>\n",
      "INFO:gensim.corpora.dictionary:built Dictionary<18 unique tokens: ['aircraft', 'automatic', 'energy', 'engine', 'hardware']...> from 2 documents (total 18 corpus positions)\n",
      "INFO:gensim.utils:Dictionary lifecycle event {'msg': \"built Dictionary<18 unique tokens: ['aircraft', 'automatic', 'energy', 'engine', 'hardware']...> from 2 documents (total 18 corpus positions)\", 'datetime': '2023-10-16T16:48:35.438152', 'gensim': '4.3.2', 'python': '3.10.9 (main, Jan 11 2023, 15:21:40) [GCC 11.2.0]', 'platform': 'Linux-5.15.0-78-generic-x86_64-with-glibc2.35', 'event': 'created'}\n",
      "INFO:gensim.models.keyedvectors:Removed 1 and 1 OOV words from document 1 and 2 (respectively).\n",
      "INFO:gensim.corpora.dictionary:adding document #0 to Dictionary<0 unique tokens: []>\n",
      "INFO:gensim.corpora.dictionary:built Dictionary<18 unique tokens: ['aircraft', 'automatic', 'energy', 'engine', 'hardware']...> from 2 documents (total 18 corpus positions)\n",
      "INFO:gensim.utils:Dictionary lifecycle event {'msg': \"built Dictionary<18 unique tokens: ['aircraft', 'automatic', 'energy', 'engine', 'hardware']...> from 2 documents (total 18 corpus positions)\", 'datetime': '2023-10-16T16:48:35.442690', 'gensim': '4.3.2', 'python': '3.10.9 (main, Jan 11 2023, 15:21:40) [GCC 11.2.0]', 'platform': 'Linux-5.15.0-78-generic-x86_64-with-glibc2.35', 'event': 'created'}\n",
      "INFO:gensim.models.keyedvectors:Removed 1 and 0 OOV words from document 1 and 2 (respectively).\n",
      "INFO:gensim.corpora.dictionary:adding document #0 to Dictionary<0 unique tokens: []>\n",
      "INFO:gensim.corpora.dictionary:built Dictionary<19 unique tokens: ['aircraft', 'automatic', 'energy', 'engine', 'hardware']...> from 2 documents (total 19 corpus positions)\n",
      "INFO:gensim.utils:Dictionary lifecycle event {'msg': \"built Dictionary<19 unique tokens: ['aircraft', 'automatic', 'energy', 'engine', 'hardware']...> from 2 documents (total 19 corpus positions)\", 'datetime': '2023-10-16T16:48:35.447463', 'gensim': '4.3.2', 'python': '3.10.9 (main, Jan 11 2023, 15:21:40) [GCC 11.2.0]', 'platform': 'Linux-5.15.0-78-generic-x86_64-with-glibc2.35', 'event': 'created'}\n",
      "INFO:gensim.models.keyedvectors:Removed 1 and 2 OOV words from document 1 and 2 (respectively).\n",
      "INFO:gensim.corpora.dictionary:adding document #0 to Dictionary<0 unique tokens: []>\n",
      "INFO:gensim.corpora.dictionary:built Dictionary<17 unique tokens: ['aircraft', 'automatic', 'energy', 'engine', 'hardware']...> from 2 documents (total 17 corpus positions)\n",
      "INFO:gensim.utils:Dictionary lifecycle event {'msg': \"built Dictionary<17 unique tokens: ['aircraft', 'automatic', 'energy', 'engine', 'hardware']...> from 2 documents (total 17 corpus positions)\", 'datetime': '2023-10-16T16:48:35.452265', 'gensim': '4.3.2', 'python': '3.10.9 (main, Jan 11 2023, 15:21:40) [GCC 11.2.0]', 'platform': 'Linux-5.15.0-78-generic-x86_64-with-glibc2.35', 'event': 'created'}\n",
      "INFO:gensim.models.keyedvectors:Removed 1 and 0 OOV words from document 1 and 2 (respectively).\n",
      "INFO:gensim.corpora.dictionary:adding document #0 to Dictionary<0 unique tokens: []>\n",
      "INFO:gensim.corpora.dictionary:built Dictionary<18 unique tokens: ['aircraft', 'automatic', 'energy', 'engine', 'hardware']...> from 2 documents (total 19 corpus positions)\n",
      "INFO:gensim.utils:Dictionary lifecycle event {'msg': \"built Dictionary<18 unique tokens: ['aircraft', 'automatic', 'energy', 'engine', 'hardware']...> from 2 documents (total 19 corpus positions)\", 'datetime': '2023-10-16T16:48:35.457337', 'gensim': '4.3.2', 'python': '3.10.9 (main, Jan 11 2023, 15:21:40) [GCC 11.2.0]', 'platform': 'Linux-5.15.0-78-generic-x86_64-with-glibc2.35', 'event': 'created'}\n",
      "INFO:gensim.corpora.dictionary:adding document #0 to Dictionary<0 unique tokens: []>\n",
      "INFO:gensim.corpora.dictionary:built Dictionary<20 unique tokens: ['atom', 'electron', 'energy', 'galaxy', 'laser']...> from 2 documents (total 20 corpus positions)\n",
      "INFO:gensim.utils:Dictionary lifecycle event {'msg': \"built Dictionary<20 unique tokens: ['atom', 'electron', 'energy', 'galaxy', 'laser']...> from 2 documents (total 20 corpus positions)\", 'datetime': '2023-10-16T16:48:35.461332', 'gensim': '4.3.2', 'python': '3.10.9 (main, Jan 11 2023, 15:21:40) [GCC 11.2.0]', 'platform': 'Linux-5.15.0-78-generic-x86_64-with-glibc2.35', 'event': 'created'}\n",
      "INFO:gensim.models.keyedvectors:Removed 0 and 1 OOV words from document 1 and 2 (respectively).\n",
      "INFO:gensim.corpora.dictionary:adding document #0 to Dictionary<0 unique tokens: []>\n",
      "INFO:gensim.corpora.dictionary:built Dictionary<17 unique tokens: ['atom', 'electron', 'energy', 'galaxy', 'laser']...> from 2 documents (total 19 corpus positions)\n",
      "INFO:gensim.utils:Dictionary lifecycle event {'msg': \"built Dictionary<17 unique tokens: ['atom', 'electron', 'energy', 'galaxy', 'laser']...> from 2 documents (total 19 corpus positions)\", 'datetime': '2023-10-16T16:48:35.466109', 'gensim': '4.3.2', 'python': '3.10.9 (main, Jan 11 2023, 15:21:40) [GCC 11.2.0]', 'platform': 'Linux-5.15.0-78-generic-x86_64-with-glibc2.35', 'event': 'created'}\n",
      "INFO:gensim.models.keyedvectors:Removed 0 and 2 OOV words from document 1 and 2 (respectively).\n",
      "INFO:gensim.corpora.dictionary:adding document #0 to Dictionary<0 unique tokens: []>\n",
      "INFO:gensim.corpora.dictionary:built Dictionary<18 unique tokens: ['atom', 'electron', 'energy', 'galaxy', 'laser']...> from 2 documents (total 18 corpus positions)\n",
      "INFO:gensim.utils:Dictionary lifecycle event {'msg': \"built Dictionary<18 unique tokens: ['atom', 'electron', 'energy', 'galaxy', 'laser']...> from 2 documents (total 18 corpus positions)\", 'datetime': '2023-10-16T16:48:35.471058', 'gensim': '4.3.2', 'python': '3.10.9 (main, Jan 11 2023, 15:21:40) [GCC 11.2.0]', 'platform': 'Linux-5.15.0-78-generic-x86_64-with-glibc2.35', 'event': 'created'}\n",
      "INFO:gensim.corpora.dictionary:adding document #0 to Dictionary<0 unique tokens: []>\n",
      "INFO:gensim.corpora.dictionary:built Dictionary<17 unique tokens: ['atom', 'electron', 'energy', 'galaxy', 'laser']...> from 2 documents (total 20 corpus positions)\n",
      "INFO:gensim.utils:Dictionary lifecycle event {'msg': \"built Dictionary<17 unique tokens: ['atom', 'electron', 'energy', 'galaxy', 'laser']...> from 2 documents (total 20 corpus positions)\", 'datetime': '2023-10-16T16:48:35.475319', 'gensim': '4.3.2', 'python': '3.10.9 (main, Jan 11 2023, 15:21:40) [GCC 11.2.0]', 'platform': 'Linux-5.15.0-78-generic-x86_64-with-glibc2.35', 'event': 'created'}\n",
      "INFO:gensim.models.keyedvectors:Removed 0 and 2 OOV words from document 1 and 2 (respectively).\n",
      "INFO:gensim.corpora.dictionary:adding document #0 to Dictionary<0 unique tokens: []>\n",
      "INFO:gensim.corpora.dictionary:built Dictionary<17 unique tokens: ['atom', 'electron', 'energy', 'galaxy', 'laser']...> from 2 documents (total 18 corpus positions)\n",
      "INFO:gensim.utils:Dictionary lifecycle event {'msg': \"built Dictionary<17 unique tokens: ['atom', 'electron', 'energy', 'galaxy', 'laser']...> from 2 documents (total 18 corpus positions)\", 'datetime': '2023-10-16T16:48:35.480216', 'gensim': '4.3.2', 'python': '3.10.9 (main, Jan 11 2023, 15:21:40) [GCC 11.2.0]', 'platform': 'Linux-5.15.0-78-generic-x86_64-with-glibc2.35', 'event': 'created'}\n",
      "INFO:gensim.models.keyedvectors:Removed 0 and 1 OOV words from document 1 and 2 (respectively).\n",
      "INFO:gensim.corpora.dictionary:adding document #0 to Dictionary<0 unique tokens: []>\n",
      "INFO:gensim.corpora.dictionary:built Dictionary<18 unique tokens: ['atom', 'electron', 'energy', 'galaxy', 'laser']...> from 2 documents (total 19 corpus positions)\n",
      "INFO:gensim.utils:Dictionary lifecycle event {'msg': \"built Dictionary<18 unique tokens: ['atom', 'electron', 'energy', 'galaxy', 'laser']...> from 2 documents (total 19 corpus positions)\", 'datetime': '2023-10-16T16:48:35.487124', 'gensim': '4.3.2', 'python': '3.10.9 (main, Jan 11 2023, 15:21:40) [GCC 11.2.0]', 'platform': 'Linux-5.15.0-78-generic-x86_64-with-glibc2.35', 'event': 'created'}\n",
      "INFO:gensim.models.keyedvectors:Removed 0 and 1 OOV words from document 1 and 2 (respectively).\n",
      "INFO:gensim.corpora.dictionary:adding document #0 to Dictionary<0 unique tokens: []>\n",
      "INFO:gensim.corpora.dictionary:built Dictionary<18 unique tokens: ['atom', 'electron', 'energy', 'galaxy', 'laser']...> from 2 documents (total 19 corpus positions)\n",
      "INFO:gensim.utils:Dictionary lifecycle event {'msg': \"built Dictionary<18 unique tokens: ['atom', 'electron', 'energy', 'galaxy', 'laser']...> from 2 documents (total 19 corpus positions)\", 'datetime': '2023-10-16T16:48:35.491479', 'gensim': '4.3.2', 'python': '3.10.9 (main, Jan 11 2023, 15:21:40) [GCC 11.2.0]', 'platform': 'Linux-5.15.0-78-generic-x86_64-with-glibc2.35', 'event': 'created'}\n",
      "INFO:gensim.corpora.dictionary:adding document #0 to Dictionary<0 unique tokens: []>\n",
      "INFO:gensim.corpora.dictionary:built Dictionary<20 unique tokens: ['atom', 'electron', 'energy', 'galaxy', 'laser']...> from 2 documents (total 20 corpus positions)\n",
      "INFO:gensim.utils:Dictionary lifecycle event {'msg': \"built Dictionary<20 unique tokens: ['atom', 'electron', 'energy', 'galaxy', 'laser']...> from 2 documents (total 20 corpus positions)\", 'datetime': '2023-10-16T16:48:35.494643', 'gensim': '4.3.2', 'python': '3.10.9 (main, Jan 11 2023, 15:21:40) [GCC 11.2.0]', 'platform': 'Linux-5.15.0-78-generic-x86_64-with-glibc2.35', 'event': 'created'}\n",
      "INFO:gensim.models.keyedvectors:Removed 0 and 2 OOV words from document 1 and 2 (respectively).\n",
      "INFO:gensim.corpora.dictionary:adding document #0 to Dictionary<0 unique tokens: []>\n",
      "INFO:gensim.corpora.dictionary:built Dictionary<15 unique tokens: ['atom', 'electron', 'energy', 'galaxy', 'laser']...> from 2 documents (total 18 corpus positions)\n",
      "INFO:gensim.utils:Dictionary lifecycle event {'msg': \"built Dictionary<15 unique tokens: ['atom', 'electron', 'energy', 'galaxy', 'laser']...> from 2 documents (total 18 corpus positions)\", 'datetime': '2023-10-16T16:48:35.498108', 'gensim': '4.3.2', 'python': '3.10.9 (main, Jan 11 2023, 15:21:40) [GCC 11.2.0]', 'platform': 'Linux-5.15.0-78-generic-x86_64-with-glibc2.35', 'event': 'created'}\n",
      "INFO:gensim.corpora.dictionary:adding document #0 to Dictionary<0 unique tokens: []>\n",
      "INFO:gensim.corpora.dictionary:built Dictionary<18 unique tokens: ['atom', 'electron', 'energy', 'galaxy', 'laser']...> from 2 documents (total 20 corpus positions)\n",
      "INFO:gensim.utils:Dictionary lifecycle event {'msg': \"built Dictionary<18 unique tokens: ['atom', 'electron', 'energy', 'galaxy', 'laser']...> from 2 documents (total 20 corpus positions)\", 'datetime': '2023-10-16T16:48:35.501592', 'gensim': '4.3.2', 'python': '3.10.9 (main, Jan 11 2023, 15:21:40) [GCC 11.2.0]', 'platform': 'Linux-5.15.0-78-generic-x86_64-with-glibc2.35', 'event': 'created'}\n",
      "INFO:gensim.corpora.dictionary:adding document #0 to Dictionary<0 unique tokens: []>\n",
      "INFO:gensim.corpora.dictionary:built Dictionary<20 unique tokens: ['brain', 'cellular', 'deoxyribonucleic_acid', 'genetic', 'genomic']...> from 2 documents (total 20 corpus positions)\n",
      "INFO:gensim.utils:Dictionary lifecycle event {'msg': \"built Dictionary<20 unique tokens: ['brain', 'cellular', 'deoxyribonucleic_acid', 'genetic', 'genomic']...> from 2 documents (total 20 corpus positions)\", 'datetime': '2023-10-16T16:48:35.504861', 'gensim': '4.3.2', 'python': '3.10.9 (main, Jan 11 2023, 15:21:40) [GCC 11.2.0]', 'platform': 'Linux-5.15.0-78-generic-x86_64-with-glibc2.35', 'event': 'created'}\n",
      "INFO:gensim.models.keyedvectors:Removed 0 and 1 OOV words from document 1 and 2 (respectively).\n",
      "INFO:gensim.corpora.dictionary:adding document #0 to Dictionary<0 unique tokens: []>\n",
      "INFO:gensim.corpora.dictionary:built Dictionary<19 unique tokens: ['brain', 'cellular', 'deoxyribonucleic_acid', 'genetic', 'genomic']...> from 2 documents (total 19 corpus positions)\n",
      "INFO:gensim.utils:Dictionary lifecycle event {'msg': \"built Dictionary<19 unique tokens: ['brain', 'cellular', 'deoxyribonucleic_acid', 'genetic', 'genomic']...> from 2 documents (total 19 corpus positions)\", 'datetime': '2023-10-16T16:48:35.508044', 'gensim': '4.3.2', 'python': '3.10.9 (main, Jan 11 2023, 15:21:40) [GCC 11.2.0]', 'platform': 'Linux-5.15.0-78-generic-x86_64-with-glibc2.35', 'event': 'created'}\n",
      "INFO:gensim.models.keyedvectors:Removed 0 and 2 OOV words from document 1 and 2 (respectively).\n",
      "INFO:gensim.corpora.dictionary:adding document #0 to Dictionary<0 unique tokens: []>\n",
      "INFO:gensim.corpora.dictionary:built Dictionary<18 unique tokens: ['brain', 'cellular', 'deoxyribonucleic_acid', 'genetic', 'genomic']...> from 2 documents (total 18 corpus positions)\n",
      "INFO:gensim.utils:Dictionary lifecycle event {'msg': \"built Dictionary<18 unique tokens: ['brain', 'cellular', 'deoxyribonucleic_acid', 'genetic', 'genomic']...> from 2 documents (total 18 corpus positions)\", 'datetime': '2023-10-16T16:48:35.511118', 'gensim': '4.3.2', 'python': '3.10.9 (main, Jan 11 2023, 15:21:40) [GCC 11.2.0]', 'platform': 'Linux-5.15.0-78-generic-x86_64-with-glibc2.35', 'event': 'created'}\n",
      "INFO:gensim.corpora.dictionary:adding document #0 to Dictionary<0 unique tokens: []>\n",
      "INFO:gensim.corpora.dictionary:built Dictionary<20 unique tokens: ['brain', 'cellular', 'deoxyribonucleic_acid', 'genetic', 'genomic']...> from 2 documents (total 20 corpus positions)\n",
      "INFO:gensim.utils:Dictionary lifecycle event {'msg': \"built Dictionary<20 unique tokens: ['brain', 'cellular', 'deoxyribonucleic_acid', 'genetic', 'genomic']...> from 2 documents (total 20 corpus positions)\", 'datetime': '2023-10-16T16:48:35.513772', 'gensim': '4.3.2', 'python': '3.10.9 (main, Jan 11 2023, 15:21:40) [GCC 11.2.0]', 'platform': 'Linux-5.15.0-78-generic-x86_64-with-glibc2.35', 'event': 'created'}\n",
      "INFO:gensim.models.keyedvectors:Removed 0 and 2 OOV words from document 1 and 2 (respectively).\n",
      "INFO:gensim.corpora.dictionary:adding document #0 to Dictionary<0 unique tokens: []>\n",
      "INFO:gensim.corpora.dictionary:built Dictionary<18 unique tokens: ['brain', 'cellular', 'deoxyribonucleic_acid', 'genetic', 'genomic']...> from 2 documents (total 18 corpus positions)\n",
      "INFO:gensim.utils:Dictionary lifecycle event {'msg': \"built Dictionary<18 unique tokens: ['brain', 'cellular', 'deoxyribonucleic_acid', 'genetic', 'genomic']...> from 2 documents (total 18 corpus positions)\", 'datetime': '2023-10-16T16:48:35.516805', 'gensim': '4.3.2', 'python': '3.10.9 (main, Jan 11 2023, 15:21:40) [GCC 11.2.0]', 'platform': 'Linux-5.15.0-78-generic-x86_64-with-glibc2.35', 'event': 'created'}\n",
      "INFO:gensim.models.keyedvectors:Removed 0 and 1 OOV words from document 1 and 2 (respectively).\n",
      "INFO:gensim.corpora.dictionary:adding document #0 to Dictionary<0 unique tokens: []>\n",
      "INFO:gensim.corpora.dictionary:built Dictionary<19 unique tokens: ['brain', 'cellular', 'deoxyribonucleic_acid', 'genetic', 'genomic']...> from 2 documents (total 19 corpus positions)\n",
      "INFO:gensim.utils:Dictionary lifecycle event {'msg': \"built Dictionary<19 unique tokens: ['brain', 'cellular', 'deoxyribonucleic_acid', 'genetic', 'genomic']...> from 2 documents (total 19 corpus positions)\", 'datetime': '2023-10-16T16:48:35.519890', 'gensim': '4.3.2', 'python': '3.10.9 (main, Jan 11 2023, 15:21:40) [GCC 11.2.0]', 'platform': 'Linux-5.15.0-78-generic-x86_64-with-glibc2.35', 'event': 'created'}\n",
      "INFO:gensim.models.keyedvectors:Removed 0 and 1 OOV words from document 1 and 2 (respectively).\n",
      "INFO:gensim.corpora.dictionary:adding document #0 to Dictionary<0 unique tokens: []>\n",
      "INFO:gensim.corpora.dictionary:built Dictionary<17 unique tokens: ['brain', 'cellular', 'deoxyribonucleic_acid', 'genetic', 'genomic']...> from 2 documents (total 19 corpus positions)\n",
      "INFO:gensim.utils:Dictionary lifecycle event {'msg': \"built Dictionary<17 unique tokens: ['brain', 'cellular', 'deoxyribonucleic_acid', 'genetic', 'genomic']...> from 2 documents (total 19 corpus positions)\", 'datetime': '2023-10-16T16:48:35.522789', 'gensim': '4.3.2', 'python': '3.10.9 (main, Jan 11 2023, 15:21:40) [GCC 11.2.0]', 'platform': 'Linux-5.15.0-78-generic-x86_64-with-glibc2.35', 'event': 'created'}\n",
      "INFO:gensim.corpora.dictionary:adding document #0 to Dictionary<0 unique tokens: []>\n",
      "INFO:gensim.corpora.dictionary:built Dictionary<20 unique tokens: ['brain', 'cellular', 'deoxyribonucleic_acid', 'genetic', 'genomic']...> from 2 documents (total 20 corpus positions)\n",
      "INFO:gensim.utils:Dictionary lifecycle event {'msg': \"built Dictionary<20 unique tokens: ['brain', 'cellular', 'deoxyribonucleic_acid', 'genetic', 'genomic']...> from 2 documents (total 20 corpus positions)\", 'datetime': '2023-10-16T16:48:35.525414', 'gensim': '4.3.2', 'python': '3.10.9 (main, Jan 11 2023, 15:21:40) [GCC 11.2.0]', 'platform': 'Linux-5.15.0-78-generic-x86_64-with-glibc2.35', 'event': 'created'}\n",
      "INFO:gensim.models.keyedvectors:Removed 0 and 2 OOV words from document 1 and 2 (respectively).\n",
      "INFO:gensim.corpora.dictionary:adding document #0 to Dictionary<0 unique tokens: []>\n",
      "INFO:gensim.corpora.dictionary:built Dictionary<16 unique tokens: ['brain', 'cellular', 'deoxyribonucleic_acid', 'genetic', 'genomic']...> from 2 documents (total 18 corpus positions)\n",
      "INFO:gensim.utils:Dictionary lifecycle event {'msg': \"built Dictionary<16 unique tokens: ['brain', 'cellular', 'deoxyribonucleic_acid', 'genetic', 'genomic']...> from 2 documents (total 18 corpus positions)\", 'datetime': '2023-10-16T16:48:35.528821', 'gensim': '4.3.2', 'python': '3.10.9 (main, Jan 11 2023, 15:21:40) [GCC 11.2.0]', 'platform': 'Linux-5.15.0-78-generic-x86_64-with-glibc2.35', 'event': 'created'}\n",
      "INFO:gensim.corpora.dictionary:adding document #0 to Dictionary<0 unique tokens: []>\n",
      "INFO:gensim.corpora.dictionary:built Dictionary<20 unique tokens: ['brain', 'cellular', 'deoxyribonucleic_acid', 'genetic', 'genomic']...> from 2 documents (total 20 corpus positions)\n",
      "INFO:gensim.utils:Dictionary lifecycle event {'msg': \"built Dictionary<20 unique tokens: ['brain', 'cellular', 'deoxyribonucleic_acid', 'genetic', 'genomic']...> from 2 documents (total 20 corpus positions)\", 'datetime': '2023-10-16T16:48:35.531652', 'gensim': '4.3.2', 'python': '3.10.9 (main, Jan 11 2023, 15:21:40) [GCC 11.2.0]', 'platform': 'Linux-5.15.0-78-generic-x86_64-with-glibc2.35', 'event': 'created'}\n",
      "INFO:gensim.corpora.dictionary:adding document #0 to Dictionary<0 unique tokens: []>\n",
      "INFO:gensim.corpora.dictionary:built Dictionary<20 unique tokens: ['carbon', 'carbon_dioxide', 'chemical', 'energy', 'food']...> from 2 documents (total 20 corpus positions)\n",
      "INFO:gensim.utils:Dictionary lifecycle event {'msg': \"built Dictionary<20 unique tokens: ['carbon', 'carbon_dioxide', 'chemical', 'energy', 'food']...> from 2 documents (total 20 corpus positions)\", 'datetime': '2023-10-16T16:48:35.534451', 'gensim': '4.3.2', 'python': '3.10.9 (main, Jan 11 2023, 15:21:40) [GCC 11.2.0]', 'platform': 'Linux-5.15.0-78-generic-x86_64-with-glibc2.35', 'event': 'created'}\n",
      "INFO:gensim.models.keyedvectors:Removed 0 and 1 OOV words from document 1 and 2 (respectively).\n",
      "INFO:gensim.corpora.dictionary:adding document #0 to Dictionary<0 unique tokens: []>\n",
      "INFO:gensim.corpora.dictionary:built Dictionary<19 unique tokens: ['carbon', 'carbon_dioxide', 'chemical', 'energy', 'food']...> from 2 documents (total 19 corpus positions)\n",
      "INFO:gensim.utils:Dictionary lifecycle event {'msg': \"built Dictionary<19 unique tokens: ['carbon', 'carbon_dioxide', 'chemical', 'energy', 'food']...> from 2 documents (total 19 corpus positions)\", 'datetime': '2023-10-16T16:48:35.538507', 'gensim': '4.3.2', 'python': '3.10.9 (main, Jan 11 2023, 15:21:40) [GCC 11.2.0]', 'platform': 'Linux-5.15.0-78-generic-x86_64-with-glibc2.35', 'event': 'created'}\n",
      "INFO:gensim.models.keyedvectors:Removed 0 and 2 OOV words from document 1 and 2 (respectively).\n",
      "INFO:gensim.corpora.dictionary:adding document #0 to Dictionary<0 unique tokens: []>\n",
      "INFO:gensim.corpora.dictionary:built Dictionary<18 unique tokens: ['carbon', 'carbon_dioxide', 'chemical', 'energy', 'food']...> from 2 documents (total 18 corpus positions)\n",
      "INFO:gensim.utils:Dictionary lifecycle event {'msg': \"built Dictionary<18 unique tokens: ['carbon', 'carbon_dioxide', 'chemical', 'energy', 'food']...> from 2 documents (total 18 corpus positions)\", 'datetime': '2023-10-16T16:48:35.542799', 'gensim': '4.3.2', 'python': '3.10.9 (main, Jan 11 2023, 15:21:40) [GCC 11.2.0]', 'platform': 'Linux-5.15.0-78-generic-x86_64-with-glibc2.35', 'event': 'created'}\n",
      "INFO:gensim.corpora.dictionary:adding document #0 to Dictionary<0 unique tokens: []>\n",
      "INFO:gensim.corpora.dictionary:built Dictionary<20 unique tokens: ['carbon', 'carbon_dioxide', 'chemical', 'energy', 'food']...> from 2 documents (total 20 corpus positions)\n",
      "INFO:gensim.utils:Dictionary lifecycle event {'msg': \"built Dictionary<20 unique tokens: ['carbon', 'carbon_dioxide', 'chemical', 'energy', 'food']...> from 2 documents (total 20 corpus positions)\", 'datetime': '2023-10-16T16:48:35.546364', 'gensim': '4.3.2', 'python': '3.10.9 (main, Jan 11 2023, 15:21:40) [GCC 11.2.0]', 'platform': 'Linux-5.15.0-78-generic-x86_64-with-glibc2.35', 'event': 'created'}\n",
      "INFO:gensim.models.keyedvectors:Removed 0 and 2 OOV words from document 1 and 2 (respectively).\n",
      "INFO:gensim.corpora.dictionary:adding document #0 to Dictionary<0 unique tokens: []>\n",
      "INFO:gensim.corpora.dictionary:built Dictionary<18 unique tokens: ['carbon', 'carbon_dioxide', 'chemical', 'energy', 'food']...> from 2 documents (total 18 corpus positions)\n",
      "INFO:gensim.utils:Dictionary lifecycle event {'msg': \"built Dictionary<18 unique tokens: ['carbon', 'carbon_dioxide', 'chemical', 'energy', 'food']...> from 2 documents (total 18 corpus positions)\", 'datetime': '2023-10-16T16:48:35.550638', 'gensim': '4.3.2', 'python': '3.10.9 (main, Jan 11 2023, 15:21:40) [GCC 11.2.0]', 'platform': 'Linux-5.15.0-78-generic-x86_64-with-glibc2.35', 'event': 'created'}\n",
      "INFO:gensim.models.keyedvectors:Removed 0 and 1 OOV words from document 1 and 2 (respectively).\n",
      "INFO:gensim.corpora.dictionary:adding document #0 to Dictionary<0 unique tokens: []>\n",
      "INFO:gensim.corpora.dictionary:built Dictionary<19 unique tokens: ['carbon', 'carbon_dioxide', 'chemical', 'energy', 'food']...> from 2 documents (total 19 corpus positions)\n",
      "INFO:gensim.utils:Dictionary lifecycle event {'msg': \"built Dictionary<19 unique tokens: ['carbon', 'carbon_dioxide', 'chemical', 'energy', 'food']...> from 2 documents (total 19 corpus positions)\", 'datetime': '2023-10-16T16:48:35.554404', 'gensim': '4.3.2', 'python': '3.10.9 (main, Jan 11 2023, 15:21:40) [GCC 11.2.0]', 'platform': 'Linux-5.15.0-78-generic-x86_64-with-glibc2.35', 'event': 'created'}\n",
      "INFO:gensim.models.keyedvectors:Removed 0 and 1 OOV words from document 1 and 2 (respectively).\n",
      "INFO:gensim.corpora.dictionary:adding document #0 to Dictionary<0 unique tokens: []>\n",
      "INFO:gensim.corpora.dictionary:built Dictionary<19 unique tokens: ['carbon', 'carbon_dioxide', 'chemical', 'energy', 'food']...> from 2 documents (total 19 corpus positions)\n",
      "INFO:gensim.utils:Dictionary lifecycle event {'msg': \"built Dictionary<19 unique tokens: ['carbon', 'carbon_dioxide', 'chemical', 'energy', 'food']...> from 2 documents (total 19 corpus positions)\", 'datetime': '2023-10-16T16:48:35.558623', 'gensim': '4.3.2', 'python': '3.10.9 (main, Jan 11 2023, 15:21:40) [GCC 11.2.0]', 'platform': 'Linux-5.15.0-78-generic-x86_64-with-glibc2.35', 'event': 'created'}\n",
      "INFO:gensim.corpora.dictionary:adding document #0 to Dictionary<0 unique tokens: []>\n",
      "INFO:gensim.corpora.dictionary:built Dictionary<20 unique tokens: ['carbon', 'carbon_dioxide', 'chemical', 'energy', 'food']...> from 2 documents (total 20 corpus positions)\n",
      "INFO:gensim.utils:Dictionary lifecycle event {'msg': \"built Dictionary<20 unique tokens: ['carbon', 'carbon_dioxide', 'chemical', 'energy', 'food']...> from 2 documents (total 20 corpus positions)\", 'datetime': '2023-10-16T16:48:35.561880', 'gensim': '4.3.2', 'python': '3.10.9 (main, Jan 11 2023, 15:21:40) [GCC 11.2.0]', 'platform': 'Linux-5.15.0-78-generic-x86_64-with-glibc2.35', 'event': 'created'}\n",
      "INFO:gensim.models.keyedvectors:Removed 0 and 2 OOV words from document 1 and 2 (respectively).\n",
      "INFO:gensim.corpora.dictionary:adding document #0 to Dictionary<0 unique tokens: []>\n",
      "INFO:gensim.corpora.dictionary:built Dictionary<17 unique tokens: ['carbon', 'carbon_dioxide', 'chemical', 'energy', 'food']...> from 2 documents (total 18 corpus positions)\n",
      "INFO:gensim.utils:Dictionary lifecycle event {'msg': \"built Dictionary<17 unique tokens: ['carbon', 'carbon_dioxide', 'chemical', 'energy', 'food']...> from 2 documents (total 18 corpus positions)\", 'datetime': '2023-10-16T16:48:35.565723', 'gensim': '4.3.2', 'python': '3.10.9 (main, Jan 11 2023, 15:21:40) [GCC 11.2.0]', 'platform': 'Linux-5.15.0-78-generic-x86_64-with-glibc2.35', 'event': 'created'}\n",
      "INFO:gensim.corpora.dictionary:adding document #0 to Dictionary<0 unique tokens: []>\n",
      "INFO:gensim.corpora.dictionary:built Dictionary<20 unique tokens: ['carbon', 'carbon_dioxide', 'chemical', 'energy', 'food']...> from 2 documents (total 20 corpus positions)\n",
      "INFO:gensim.utils:Dictionary lifecycle event {'msg': \"built Dictionary<20 unique tokens: ['carbon', 'carbon_dioxide', 'chemical', 'energy', 'food']...> from 2 documents (total 20 corpus positions)\", 'datetime': '2023-10-16T16:48:35.569278', 'gensim': '4.3.2', 'python': '3.10.9 (main, Jan 11 2023, 15:21:40) [GCC 11.2.0]', 'platform': 'Linux-5.15.0-78-generic-x86_64-with-glibc2.35', 'event': 'created'}\n",
      "INFO:gensim.corpora.dictionary:adding document #0 to Dictionary<0 unique tokens: []>\n",
      "INFO:gensim.corpora.dictionary:built Dictionary<20 unique tokens: ['biomarker', 'cancer', 'clinical', 'disease', 'drug']...> from 2 documents (total 20 corpus positions)\n",
      "INFO:gensim.utils:Dictionary lifecycle event {'msg': \"built Dictionary<20 unique tokens: ['biomarker', 'cancer', 'clinical', 'disease', 'drug']...> from 2 documents (total 20 corpus positions)\", 'datetime': '2023-10-16T16:48:35.572595', 'gensim': '4.3.2', 'python': '3.10.9 (main, Jan 11 2023, 15:21:40) [GCC 11.2.0]', 'platform': 'Linux-5.15.0-78-generic-x86_64-with-glibc2.35', 'event': 'created'}\n",
      "INFO:gensim.models.keyedvectors:Removed 0 and 1 OOV words from document 1 and 2 (respectively).\n",
      "INFO:gensim.corpora.dictionary:adding document #0 to Dictionary<0 unique tokens: []>\n",
      "INFO:gensim.corpora.dictionary:built Dictionary<19 unique tokens: ['biomarker', 'cancer', 'clinical', 'disease', 'drug']...> from 2 documents (total 19 corpus positions)\n",
      "INFO:gensim.utils:Dictionary lifecycle event {'msg': \"built Dictionary<19 unique tokens: ['biomarker', 'cancer', 'clinical', 'disease', 'drug']...> from 2 documents (total 19 corpus positions)\", 'datetime': '2023-10-16T16:48:35.576691', 'gensim': '4.3.2', 'python': '3.10.9 (main, Jan 11 2023, 15:21:40) [GCC 11.2.0]', 'platform': 'Linux-5.15.0-78-generic-x86_64-with-glibc2.35', 'event': 'created'}\n",
      "INFO:gensim.models.keyedvectors:Removed 0 and 2 OOV words from document 1 and 2 (respectively).\n",
      "INFO:gensim.corpora.dictionary:adding document #0 to Dictionary<0 unique tokens: []>\n",
      "INFO:gensim.corpora.dictionary:built Dictionary<18 unique tokens: ['biomarker', 'cancer', 'clinical', 'disease', 'drug']...> from 2 documents (total 18 corpus positions)\n",
      "INFO:gensim.utils:Dictionary lifecycle event {'msg': \"built Dictionary<18 unique tokens: ['biomarker', 'cancer', 'clinical', 'disease', 'drug']...> from 2 documents (total 18 corpus positions)\", 'datetime': '2023-10-16T16:48:35.581176', 'gensim': '4.3.2', 'python': '3.10.9 (main, Jan 11 2023, 15:21:40) [GCC 11.2.0]', 'platform': 'Linux-5.15.0-78-generic-x86_64-with-glibc2.35', 'event': 'created'}\n",
      "INFO:gensim.corpora.dictionary:adding document #0 to Dictionary<0 unique tokens: []>\n",
      "INFO:gensim.corpora.dictionary:built Dictionary<20 unique tokens: ['biomarker', 'cancer', 'clinical', 'disease', 'drug']...> from 2 documents (total 20 corpus positions)\n",
      "INFO:gensim.utils:Dictionary lifecycle event {'msg': \"built Dictionary<20 unique tokens: ['biomarker', 'cancer', 'clinical', 'disease', 'drug']...> from 2 documents (total 20 corpus positions)\", 'datetime': '2023-10-16T16:48:35.584787', 'gensim': '4.3.2', 'python': '3.10.9 (main, Jan 11 2023, 15:21:40) [GCC 11.2.0]', 'platform': 'Linux-5.15.0-78-generic-x86_64-with-glibc2.35', 'event': 'created'}\n",
      "INFO:gensim.models.keyedvectors:Removed 0 and 2 OOV words from document 1 and 2 (respectively).\n",
      "INFO:gensim.corpora.dictionary:adding document #0 to Dictionary<0 unique tokens: []>\n",
      "INFO:gensim.corpora.dictionary:built Dictionary<18 unique tokens: ['biomarker', 'cancer', 'clinical', 'disease', 'drug']...> from 2 documents (total 18 corpus positions)\n",
      "INFO:gensim.utils:Dictionary lifecycle event {'msg': \"built Dictionary<18 unique tokens: ['biomarker', 'cancer', 'clinical', 'disease', 'drug']...> from 2 documents (total 18 corpus positions)\", 'datetime': '2023-10-16T16:48:35.589192', 'gensim': '4.3.2', 'python': '3.10.9 (main, Jan 11 2023, 15:21:40) [GCC 11.2.0]', 'platform': 'Linux-5.15.0-78-generic-x86_64-with-glibc2.35', 'event': 'created'}\n",
      "INFO:gensim.models.keyedvectors:Removed 0 and 1 OOV words from document 1 and 2 (respectively).\n",
      "INFO:gensim.corpora.dictionary:adding document #0 to Dictionary<0 unique tokens: []>\n",
      "INFO:gensim.corpora.dictionary:built Dictionary<19 unique tokens: ['biomarker', 'cancer', 'clinical', 'disease', 'drug']...> from 2 documents (total 19 corpus positions)\n",
      "INFO:gensim.utils:Dictionary lifecycle event {'msg': \"built Dictionary<19 unique tokens: ['biomarker', 'cancer', 'clinical', 'disease', 'drug']...> from 2 documents (total 19 corpus positions)\", 'datetime': '2023-10-16T16:48:35.593268', 'gensim': '4.3.2', 'python': '3.10.9 (main, Jan 11 2023, 15:21:40) [GCC 11.2.0]', 'platform': 'Linux-5.15.0-78-generic-x86_64-with-glibc2.35', 'event': 'created'}\n",
      "INFO:gensim.models.keyedvectors:Removed 0 and 1 OOV words from document 1 and 2 (respectively).\n",
      "INFO:gensim.corpora.dictionary:adding document #0 to Dictionary<0 unique tokens: []>\n",
      "INFO:gensim.corpora.dictionary:built Dictionary<19 unique tokens: ['biomarker', 'cancer', 'clinical', 'disease', 'drug']...> from 2 documents (total 19 corpus positions)\n",
      "INFO:gensim.utils:Dictionary lifecycle event {'msg': \"built Dictionary<19 unique tokens: ['biomarker', 'cancer', 'clinical', 'disease', 'drug']...> from 2 documents (total 19 corpus positions)\", 'datetime': '2023-10-16T16:48:35.597826', 'gensim': '4.3.2', 'python': '3.10.9 (main, Jan 11 2023, 15:21:40) [GCC 11.2.0]', 'platform': 'Linux-5.15.0-78-generic-x86_64-with-glibc2.35', 'event': 'created'}\n",
      "INFO:gensim.corpora.dictionary:adding document #0 to Dictionary<0 unique tokens: []>\n",
      "INFO:gensim.corpora.dictionary:built Dictionary<20 unique tokens: ['biomarker', 'cancer', 'clinical', 'disease', 'drug']...> from 2 documents (total 20 corpus positions)\n",
      "INFO:gensim.utils:Dictionary lifecycle event {'msg': \"built Dictionary<20 unique tokens: ['biomarker', 'cancer', 'clinical', 'disease', 'drug']...> from 2 documents (total 20 corpus positions)\", 'datetime': '2023-10-16T16:48:35.601622', 'gensim': '4.3.2', 'python': '3.10.9 (main, Jan 11 2023, 15:21:40) [GCC 11.2.0]', 'platform': 'Linux-5.15.0-78-generic-x86_64-with-glibc2.35', 'event': 'created'}\n",
      "INFO:gensim.models.keyedvectors:Removed 0 and 2 OOV words from document 1 and 2 (respectively).\n",
      "INFO:gensim.corpora.dictionary:adding document #0 to Dictionary<0 unique tokens: []>\n",
      "INFO:gensim.corpora.dictionary:built Dictionary<18 unique tokens: ['biomarker', 'cancer', 'clinical', 'disease', 'drug']...> from 2 documents (total 18 corpus positions)\n",
      "INFO:gensim.utils:Dictionary lifecycle event {'msg': \"built Dictionary<18 unique tokens: ['biomarker', 'cancer', 'clinical', 'disease', 'drug']...> from 2 documents (total 18 corpus positions)\", 'datetime': '2023-10-16T16:48:35.605634', 'gensim': '4.3.2', 'python': '3.10.9 (main, Jan 11 2023, 15:21:40) [GCC 11.2.0]', 'platform': 'Linux-5.15.0-78-generic-x86_64-with-glibc2.35', 'event': 'created'}\n",
      "INFO:gensim.corpora.dictionary:adding document #0 to Dictionary<0 unique tokens: []>\n",
      "INFO:gensim.corpora.dictionary:built Dictionary<20 unique tokens: ['biomarker', 'cancer', 'clinical', 'disease', 'drug']...> from 2 documents (total 20 corpus positions)\n",
      "INFO:gensim.utils:Dictionary lifecycle event {'msg': \"built Dictionary<20 unique tokens: ['biomarker', 'cancer', 'clinical', 'disease', 'drug']...> from 2 documents (total 20 corpus positions)\", 'datetime': '2023-10-16T16:48:35.609702', 'gensim': '4.3.2', 'python': '3.10.9 (main, Jan 11 2023, 15:21:40) [GCC 11.2.0]', 'platform': 'Linux-5.15.0-78-generic-x86_64-with-glibc2.35', 'event': 'created'}\n"
     ]
    }
   ],
   "source": [
    "all_dist = wmd(topics0,topics2)"
   ]
  },
  {
   "cell_type": "code",
   "execution_count": 218,
   "id": "449b6777-361c-4246-bc28-c6d28a1cd36d",
   "metadata": {
    "tags": []
   },
   "outputs": [
    {
     "data": {
      "text/plain": [
       "3"
      ]
     },
     "execution_count": 218,
     "metadata": {},
     "output_type": "execute_result"
    }
   ],
   "source": [
    "most_sim_tpc_wmd = np.argmin(all_dist[tpc_sim_from,:])\n",
    "least_sim_tpc"
   ]
  },
  {
   "cell_type": "code",
   "execution_count": 220,
   "id": "6e3486e8-fcca-4939-867c-f63c7477df81",
   "metadata": {
    "tags": []
   },
   "outputs": [
    {
     "data": {
      "text/plain": [
       "['photonic',\n",
       " 'optic',\n",
       " 'laser',\n",
       " 'nonlinear',\n",
       " 'chip',\n",
       " 'pulse',\n",
       " 'metamaterial',\n",
       " 'plasmonic',\n",
       " 'wavelength',\n",
       " 'waveguide',\n",
       " 'frequency',\n",
       " 'sensing',\n",
       " 'source',\n",
       " 'fiber',\n",
       " 'frequency_comb']"
      ]
     },
     "execution_count": 220,
     "metadata": {},
     "output_type": "execute_result"
    }
   ],
   "source": [
    "topics1[tpc_sim_from]"
   ]
  },
  {
   "cell_type": "code",
   "execution_count": 221,
   "id": "76bb1c59-20c9-4882-86fb-74755f1dd0b3",
   "metadata": {
    "tags": []
   },
   "outputs": [
    {
     "data": {
      "text/plain": [
       "['laser',\n",
       " 'optic',\n",
       " 'imaging',\n",
       " 'source',\n",
       " 'pulse',\n",
       " 'photonic',\n",
       " 'metamaterial',\n",
       " 'ultrafast',\n",
       " 'nonlinear',\n",
       " 'detector',\n",
       " 'beam',\n",
       " 'image',\n",
       " 'wavelength',\n",
       " 'microscopy',\n",
       " 'light']"
      ]
     },
     "execution_count": 221,
     "metadata": {},
     "output_type": "execute_result"
    }
   ],
   "source": [
    "topics2[least_sim_tpc]"
   ]
  },
  {
   "cell_type": "code",
   "execution_count": 226,
   "id": "a08480fc-5bf5-4514-8235-453d5f73c628",
   "metadata": {
    "tags": []
   },
   "outputs": [],
   "source": [
    "def sample_bernoulli(n=1, p=.5):\n",
    "    return np.random.binomial(n, p, 1)[0]"
   ]
  },
  {
   "cell_type": "code",
   "execution_count": 249,
   "id": "2bb68f72-ee90-4b08-aae8-d24039e116ec",
   "metadata": {
    "tags": []
   },
   "outputs": [
    {
     "data": {
      "text/plain": [
       "0"
      ]
     },
     "execution_count": 249,
     "metadata": {},
     "output_type": "execute_result"
    }
   ],
   "source": [
    "sample_bernoulli(p=.5)"
   ]
  }
 ],
 "metadata": {
  "kernelspec": {
   "display_name": "prueba",
   "language": "python",
   "name": "prueba"
  },
  "language_info": {
   "codemirror_mode": {
    "name": "ipython",
    "version": 3
   },
   "file_extension": ".py",
   "mimetype": "text/x-python",
   "name": "python",
   "nbconvert_exporter": "python",
   "pygments_lexer": "ipython3",
   "version": "3.10.9"
  }
 },
 "nbformat": 4,
 "nbformat_minor": 5
}
